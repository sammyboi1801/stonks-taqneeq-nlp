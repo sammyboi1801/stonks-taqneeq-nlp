{
  "nbformat": 4,
  "nbformat_minor": 0,
  "metadata": {
    "colab": {
      "provenance": []
    },
    "kernelspec": {
      "name": "python3",
      "display_name": "Python 3"
    },
    "language_info": {
      "name": "python"
    },
    "accelerator": "GPU",
    "gpuClass": "standard"
  },
  "cells": [
    {
      "cell_type": "code",
      "source": [
        "# Importing libraries\n",
        "import pandas_datareader as pdr\n",
        "import pandas as pd"
      ],
      "metadata": {
        "id": "M2wLtvp_WvYz"
      },
      "execution_count": 7,
      "outputs": []
    },
    {
      "cell_type": "code",
      "source": [
        "# Loading Dataset\n",
        "df = pdr.get_data_tiingo('AMZN', api_key=\"1f56ecefdd32ea96ef9f037c8c62cfe7179294c2\")"
      ],
      "metadata": {
        "colab": {
          "base_uri": "https://localhost:8080/"
        },
        "id": "8nxmFW3lr39v",
        "outputId": "8806ee42-ce00-411f-b7ae-1a275b5559f6"
      },
      "execution_count": 8,
      "outputs": [
        {
          "output_type": "stream",
          "name": "stderr",
          "text": [
            "/usr/local/lib/python3.8/dist-packages/pandas_datareader/tiingo.py:234: FutureWarning: In a future version of pandas all arguments of concat except for the argument 'objs' will be keyword-only\n",
            "  return pd.concat(dfs, self._concat_axis)\n"
          ]
        }
      ]
    },
    {
      "cell_type": "code",
      "source": [
        "df"
      ],
      "metadata": {
        "colab": {
          "base_uri": "https://localhost:8080/",
          "height": 684
        },
        "id": "s7dociuetGrU",
        "outputId": "9233197d-0a16-4a4c-acd7-cfcc3e1f4514"
      },
      "execution_count": 9,
      "outputs": [
        {
          "output_type": "execute_result",
          "data": {
            "text/plain": [
              "                                    close      high        low     open  \\\n",
              "symbol date                                                               \n",
              "AMZN   2018-01-23 00:00:00+00:00  1362.54  1364.900  1337.3400  1338.09   \n",
              "       2018-01-24 00:00:00+00:00  1357.51  1388.160  1338.0000  1374.82   \n",
              "       2018-01-25 00:00:00+00:00  1377.95  1378.340  1357.6200  1368.00   \n",
              "       2018-01-26 00:00:00+00:00  1402.05  1402.530  1380.9100  1392.01   \n",
              "       2018-01-29 00:00:00+00:00  1417.68  1431.390  1400.4400  1409.18   \n",
              "...                                   ...       ...        ...      ...   \n",
              "       2023-01-13 00:00:00+00:00    98.12    98.370    94.1200    94.18   \n",
              "       2023-01-17 00:00:00+00:00    96.05    98.890    95.7300    98.68   \n",
              "       2023-01-18 00:00:00+00:00    95.46    99.320    95.3800    97.25   \n",
              "       2023-01-19 00:00:00+00:00    93.68    95.440    92.8600    94.74   \n",
              "       2023-01-20 00:00:00+00:00    97.25    97.354    93.2025    93.86   \n",
              "\n",
              "                                    volume   adjClose    adjHigh     adjLow  \\\n",
              "symbol date                                                                   \n",
              "AMZN   2018-01-23 00:00:00+00:00   5056764  67.963312  68.081028  66.706339   \n",
              "       2018-01-24 00:00:00+00:00   6730084  67.712416  69.241234  66.739260   \n",
              "       2018-01-25 00:00:00+00:00   4621862  68.731961  68.751414  67.717903   \n",
              "       2018-01-26 00:00:00+00:00   4584082  69.934065  69.958008  68.879605   \n",
              "       2018-01-29 00:00:00+00:00   5628992  70.713688  71.397541  69.853759   \n",
              "...                                    ...        ...        ...        ...   \n",
              "       2023-01-13 00:00:00+00:00  85549432  98.120000  98.370000  94.120000   \n",
              "       2023-01-17 00:00:00+00:00  72755001  96.050000  98.890000  95.730000   \n",
              "       2023-01-18 00:00:00+00:00  79570370  95.460000  99.320000  95.380000   \n",
              "       2023-01-19 00:00:00+00:00  69002663  93.680000  95.440000  92.860000   \n",
              "       2023-01-20 00:00:00+00:00  67481539  97.250000  97.354000  93.202500   \n",
              "\n",
              "                                    adjOpen  adjVolume  divCash  splitFactor  \n",
              "symbol date                                                                   \n",
              "AMZN   2018-01-23 00:00:00+00:00  66.743749  101135280      0.0          1.0  \n",
              "       2018-01-24 00:00:00+00:00  68.575837  134601680      0.0          1.0  \n",
              "       2018-01-25 00:00:00+00:00  68.235656   92437240      0.0          1.0  \n",
              "       2018-01-26 00:00:00+00:00  69.433272   91681640      0.0          1.0  \n",
              "       2018-01-29 00:00:00+00:00  70.289709  112579840      0.0          1.0  \n",
              "...                                     ...        ...      ...          ...  \n",
              "       2023-01-13 00:00:00+00:00  94.180000   85549432      0.0          1.0  \n",
              "       2023-01-17 00:00:00+00:00  98.680000   72755001      0.0          1.0  \n",
              "       2023-01-18 00:00:00+00:00  97.250000   79570370      0.0          1.0  \n",
              "       2023-01-19 00:00:00+00:00  94.740000   69002663      0.0          1.0  \n",
              "       2023-01-20 00:00:00+00:00  93.860000   67481539      0.0          1.0  \n",
              "\n",
              "[1258 rows x 12 columns]"
            ],
            "text/html": [
              "\n",
              "  <div id=\"df-30c85bc9-45f4-4fbd-82f5-a9717acf493f\">\n",
              "    <div class=\"colab-df-container\">\n",
              "      <div>\n",
              "<style scoped>\n",
              "    .dataframe tbody tr th:only-of-type {\n",
              "        vertical-align: middle;\n",
              "    }\n",
              "\n",
              "    .dataframe tbody tr th {\n",
              "        vertical-align: top;\n",
              "    }\n",
              "\n",
              "    .dataframe thead th {\n",
              "        text-align: right;\n",
              "    }\n",
              "</style>\n",
              "<table border=\"1\" class=\"dataframe\">\n",
              "  <thead>\n",
              "    <tr style=\"text-align: right;\">\n",
              "      <th></th>\n",
              "      <th></th>\n",
              "      <th>close</th>\n",
              "      <th>high</th>\n",
              "      <th>low</th>\n",
              "      <th>open</th>\n",
              "      <th>volume</th>\n",
              "      <th>adjClose</th>\n",
              "      <th>adjHigh</th>\n",
              "      <th>adjLow</th>\n",
              "      <th>adjOpen</th>\n",
              "      <th>adjVolume</th>\n",
              "      <th>divCash</th>\n",
              "      <th>splitFactor</th>\n",
              "    </tr>\n",
              "    <tr>\n",
              "      <th>symbol</th>\n",
              "      <th>date</th>\n",
              "      <th></th>\n",
              "      <th></th>\n",
              "      <th></th>\n",
              "      <th></th>\n",
              "      <th></th>\n",
              "      <th></th>\n",
              "      <th></th>\n",
              "      <th></th>\n",
              "      <th></th>\n",
              "      <th></th>\n",
              "      <th></th>\n",
              "      <th></th>\n",
              "    </tr>\n",
              "  </thead>\n",
              "  <tbody>\n",
              "    <tr>\n",
              "      <th rowspan=\"11\" valign=\"top\">AMZN</th>\n",
              "      <th>2018-01-23 00:00:00+00:00</th>\n",
              "      <td>1362.54</td>\n",
              "      <td>1364.900</td>\n",
              "      <td>1337.3400</td>\n",
              "      <td>1338.09</td>\n",
              "      <td>5056764</td>\n",
              "      <td>67.963312</td>\n",
              "      <td>68.081028</td>\n",
              "      <td>66.706339</td>\n",
              "      <td>66.743749</td>\n",
              "      <td>101135280</td>\n",
              "      <td>0.0</td>\n",
              "      <td>1.0</td>\n",
              "    </tr>\n",
              "    <tr>\n",
              "      <th>2018-01-24 00:00:00+00:00</th>\n",
              "      <td>1357.51</td>\n",
              "      <td>1388.160</td>\n",
              "      <td>1338.0000</td>\n",
              "      <td>1374.82</td>\n",
              "      <td>6730084</td>\n",
              "      <td>67.712416</td>\n",
              "      <td>69.241234</td>\n",
              "      <td>66.739260</td>\n",
              "      <td>68.575837</td>\n",
              "      <td>134601680</td>\n",
              "      <td>0.0</td>\n",
              "      <td>1.0</td>\n",
              "    </tr>\n",
              "    <tr>\n",
              "      <th>2018-01-25 00:00:00+00:00</th>\n",
              "      <td>1377.95</td>\n",
              "      <td>1378.340</td>\n",
              "      <td>1357.6200</td>\n",
              "      <td>1368.00</td>\n",
              "      <td>4621862</td>\n",
              "      <td>68.731961</td>\n",
              "      <td>68.751414</td>\n",
              "      <td>67.717903</td>\n",
              "      <td>68.235656</td>\n",
              "      <td>92437240</td>\n",
              "      <td>0.0</td>\n",
              "      <td>1.0</td>\n",
              "    </tr>\n",
              "    <tr>\n",
              "      <th>2018-01-26 00:00:00+00:00</th>\n",
              "      <td>1402.05</td>\n",
              "      <td>1402.530</td>\n",
              "      <td>1380.9100</td>\n",
              "      <td>1392.01</td>\n",
              "      <td>4584082</td>\n",
              "      <td>69.934065</td>\n",
              "      <td>69.958008</td>\n",
              "      <td>68.879605</td>\n",
              "      <td>69.433272</td>\n",
              "      <td>91681640</td>\n",
              "      <td>0.0</td>\n",
              "      <td>1.0</td>\n",
              "    </tr>\n",
              "    <tr>\n",
              "      <th>2018-01-29 00:00:00+00:00</th>\n",
              "      <td>1417.68</td>\n",
              "      <td>1431.390</td>\n",
              "      <td>1400.4400</td>\n",
              "      <td>1409.18</td>\n",
              "      <td>5628992</td>\n",
              "      <td>70.713688</td>\n",
              "      <td>71.397541</td>\n",
              "      <td>69.853759</td>\n",
              "      <td>70.289709</td>\n",
              "      <td>112579840</td>\n",
              "      <td>0.0</td>\n",
              "      <td>1.0</td>\n",
              "    </tr>\n",
              "    <tr>\n",
              "      <th>...</th>\n",
              "      <td>...</td>\n",
              "      <td>...</td>\n",
              "      <td>...</td>\n",
              "      <td>...</td>\n",
              "      <td>...</td>\n",
              "      <td>...</td>\n",
              "      <td>...</td>\n",
              "      <td>...</td>\n",
              "      <td>...</td>\n",
              "      <td>...</td>\n",
              "      <td>...</td>\n",
              "      <td>...</td>\n",
              "    </tr>\n",
              "    <tr>\n",
              "      <th>2023-01-13 00:00:00+00:00</th>\n",
              "      <td>98.12</td>\n",
              "      <td>98.370</td>\n",
              "      <td>94.1200</td>\n",
              "      <td>94.18</td>\n",
              "      <td>85549432</td>\n",
              "      <td>98.120000</td>\n",
              "      <td>98.370000</td>\n",
              "      <td>94.120000</td>\n",
              "      <td>94.180000</td>\n",
              "      <td>85549432</td>\n",
              "      <td>0.0</td>\n",
              "      <td>1.0</td>\n",
              "    </tr>\n",
              "    <tr>\n",
              "      <th>2023-01-17 00:00:00+00:00</th>\n",
              "      <td>96.05</td>\n",
              "      <td>98.890</td>\n",
              "      <td>95.7300</td>\n",
              "      <td>98.68</td>\n",
              "      <td>72755001</td>\n",
              "      <td>96.050000</td>\n",
              "      <td>98.890000</td>\n",
              "      <td>95.730000</td>\n",
              "      <td>98.680000</td>\n",
              "      <td>72755001</td>\n",
              "      <td>0.0</td>\n",
              "      <td>1.0</td>\n",
              "    </tr>\n",
              "    <tr>\n",
              "      <th>2023-01-18 00:00:00+00:00</th>\n",
              "      <td>95.46</td>\n",
              "      <td>99.320</td>\n",
              "      <td>95.3800</td>\n",
              "      <td>97.25</td>\n",
              "      <td>79570370</td>\n",
              "      <td>95.460000</td>\n",
              "      <td>99.320000</td>\n",
              "      <td>95.380000</td>\n",
              "      <td>97.250000</td>\n",
              "      <td>79570370</td>\n",
              "      <td>0.0</td>\n",
              "      <td>1.0</td>\n",
              "    </tr>\n",
              "    <tr>\n",
              "      <th>2023-01-19 00:00:00+00:00</th>\n",
              "      <td>93.68</td>\n",
              "      <td>95.440</td>\n",
              "      <td>92.8600</td>\n",
              "      <td>94.74</td>\n",
              "      <td>69002663</td>\n",
              "      <td>93.680000</td>\n",
              "      <td>95.440000</td>\n",
              "      <td>92.860000</td>\n",
              "      <td>94.740000</td>\n",
              "      <td>69002663</td>\n",
              "      <td>0.0</td>\n",
              "      <td>1.0</td>\n",
              "    </tr>\n",
              "    <tr>\n",
              "      <th>2023-01-20 00:00:00+00:00</th>\n",
              "      <td>97.25</td>\n",
              "      <td>97.354</td>\n",
              "      <td>93.2025</td>\n",
              "      <td>93.86</td>\n",
              "      <td>67481539</td>\n",
              "      <td>97.250000</td>\n",
              "      <td>97.354000</td>\n",
              "      <td>93.202500</td>\n",
              "      <td>93.860000</td>\n",
              "      <td>67481539</td>\n",
              "      <td>0.0</td>\n",
              "      <td>1.0</td>\n",
              "    </tr>\n",
              "  </tbody>\n",
              "</table>\n",
              "<p>1258 rows × 12 columns</p>\n",
              "</div>\n",
              "      <button class=\"colab-df-convert\" onclick=\"convertToInteractive('df-30c85bc9-45f4-4fbd-82f5-a9717acf493f')\"\n",
              "              title=\"Convert this dataframe to an interactive table.\"\n",
              "              style=\"display:none;\">\n",
              "        \n",
              "  <svg xmlns=\"http://www.w3.org/2000/svg\" height=\"24px\"viewBox=\"0 0 24 24\"\n",
              "       width=\"24px\">\n",
              "    <path d=\"M0 0h24v24H0V0z\" fill=\"none\"/>\n",
              "    <path d=\"M18.56 5.44l.94 2.06.94-2.06 2.06-.94-2.06-.94-.94-2.06-.94 2.06-2.06.94zm-11 1L8.5 8.5l.94-2.06 2.06-.94-2.06-.94L8.5 2.5l-.94 2.06-2.06.94zm10 10l.94 2.06.94-2.06 2.06-.94-2.06-.94-.94-2.06-.94 2.06-2.06.94z\"/><path d=\"M17.41 7.96l-1.37-1.37c-.4-.4-.92-.59-1.43-.59-.52 0-1.04.2-1.43.59L10.3 9.45l-7.72 7.72c-.78.78-.78 2.05 0 2.83L4 21.41c.39.39.9.59 1.41.59.51 0 1.02-.2 1.41-.59l7.78-7.78 2.81-2.81c.8-.78.8-2.07 0-2.86zM5.41 20L4 18.59l7.72-7.72 1.47 1.35L5.41 20z\"/>\n",
              "  </svg>\n",
              "      </button>\n",
              "      \n",
              "  <style>\n",
              "    .colab-df-container {\n",
              "      display:flex;\n",
              "      flex-wrap:wrap;\n",
              "      gap: 12px;\n",
              "    }\n",
              "\n",
              "    .colab-df-convert {\n",
              "      background-color: #E8F0FE;\n",
              "      border: none;\n",
              "      border-radius: 50%;\n",
              "      cursor: pointer;\n",
              "      display: none;\n",
              "      fill: #1967D2;\n",
              "      height: 32px;\n",
              "      padding: 0 0 0 0;\n",
              "      width: 32px;\n",
              "    }\n",
              "\n",
              "    .colab-df-convert:hover {\n",
              "      background-color: #E2EBFA;\n",
              "      box-shadow: 0px 1px 2px rgba(60, 64, 67, 0.3), 0px 1px 3px 1px rgba(60, 64, 67, 0.15);\n",
              "      fill: #174EA6;\n",
              "    }\n",
              "\n",
              "    [theme=dark] .colab-df-convert {\n",
              "      background-color: #3B4455;\n",
              "      fill: #D2E3FC;\n",
              "    }\n",
              "\n",
              "    [theme=dark] .colab-df-convert:hover {\n",
              "      background-color: #434B5C;\n",
              "      box-shadow: 0px 1px 3px 1px rgba(0, 0, 0, 0.15);\n",
              "      filter: drop-shadow(0px 1px 2px rgba(0, 0, 0, 0.3));\n",
              "      fill: #FFFFFF;\n",
              "    }\n",
              "  </style>\n",
              "\n",
              "      <script>\n",
              "        const buttonEl =\n",
              "          document.querySelector('#df-30c85bc9-45f4-4fbd-82f5-a9717acf493f button.colab-df-convert');\n",
              "        buttonEl.style.display =\n",
              "          google.colab.kernel.accessAllowed ? 'block' : 'none';\n",
              "\n",
              "        async function convertToInteractive(key) {\n",
              "          const element = document.querySelector('#df-30c85bc9-45f4-4fbd-82f5-a9717acf493f');\n",
              "          const dataTable =\n",
              "            await google.colab.kernel.invokeFunction('convertToInteractive',\n",
              "                                                     [key], {});\n",
              "          if (!dataTable) return;\n",
              "\n",
              "          const docLinkHtml = 'Like what you see? Visit the ' +\n",
              "            '<a target=\"_blank\" href=https://colab.research.google.com/notebooks/data_table.ipynb>data table notebook</a>'\n",
              "            + ' to learn more about interactive tables.';\n",
              "          element.innerHTML = '';\n",
              "          dataTable['output_type'] = 'display_data';\n",
              "          await google.colab.output.renderOutput(dataTable, element);\n",
              "          const docLink = document.createElement('div');\n",
              "          docLink.innerHTML = docLinkHtml;\n",
              "          element.appendChild(docLink);\n",
              "        }\n",
              "      </script>\n",
              "    </div>\n",
              "  </div>\n",
              "  "
            ]
          },
          "metadata": {},
          "execution_count": 9
        }
      ]
    },
    {
      "cell_type": "code",
      "source": [
        "df.to_csv('AMZN.csv')"
      ],
      "metadata": {
        "id": "o7XFiNdntHwE"
      },
      "execution_count": 10,
      "outputs": []
    },
    {
      "cell_type": "code",
      "source": [
        "df=pd.read_csv('AMZN.csv')"
      ],
      "metadata": {
        "id": "Wpo_F1dptmHq"
      },
      "execution_count": 12,
      "outputs": []
    },
    {
      "cell_type": "code",
      "source": [
        "df.head(10)"
      ],
      "metadata": {
        "colab": {
          "base_uri": "https://localhost:8080/",
          "height": 593
        },
        "id": "tztKpRF5t21V",
        "outputId": "d96a4477-5561-404e-932e-72b24bae4931"
      },
      "execution_count": 13,
      "outputs": [
        {
          "output_type": "execute_result",
          "data": {
            "text/plain": [
              "  symbol                       date    close     high      low     open  \\\n",
              "0   AMZN  2018-01-23 00:00:00+00:00  1362.54  1364.90  1337.34  1338.09   \n",
              "1   AMZN  2018-01-24 00:00:00+00:00  1357.51  1388.16  1338.00  1374.82   \n",
              "2   AMZN  2018-01-25 00:00:00+00:00  1377.95  1378.34  1357.62  1368.00   \n",
              "3   AMZN  2018-01-26 00:00:00+00:00  1402.05  1402.53  1380.91  1392.01   \n",
              "4   AMZN  2018-01-29 00:00:00+00:00  1417.68  1431.39  1400.44  1409.18   \n",
              "5   AMZN  2018-01-30 00:00:00+00:00  1437.82  1439.25  1392.00  1403.17   \n",
              "6   AMZN  2018-01-31 00:00:00+00:00  1450.89  1472.58  1450.04  1451.30   \n",
              "7   AMZN  2018-02-01 00:00:00+00:00  1390.00  1459.88  1385.14  1445.00   \n",
              "8   AMZN  2018-02-02 00:00:00+00:00  1429.95  1498.00  1414.00  1477.39   \n",
              "9   AMZN  2018-02-05 00:00:00+00:00  1390.00  1458.98  1320.72  1402.62   \n",
              "\n",
              "     volume   adjClose    adjHigh     adjLow    adjOpen  adjVolume  divCash  \\\n",
              "0   5056764  67.963312  68.081028  66.706339  66.743749  101135280      0.0   \n",
              "1   6730084  67.712416  69.241234  66.739260  68.575837  134601680      0.0   \n",
              "2   4621862  68.731961  68.751414  67.717903  68.235656   92437240      0.0   \n",
              "3   4584082  69.934065  69.958008  68.879605  69.433272   91681640      0.0   \n",
              "4   5628992  70.713688  71.397541  69.853759  70.289709  112579840      0.0   \n",
              "5   5736512  71.718268  71.789596  69.432773  69.989931  114730240      0.0   \n",
              "6   6220396  72.370198  73.452092  72.327800  72.390649  124407920      0.0   \n",
              "7   7812953  69.333013  72.818618  69.090597  72.076406  156259060      0.0   \n",
              "8  10915962  71.325714  74.720038  70.530130  73.692014  218319240      0.0   \n",
              "9  10756332  69.333013  72.773726  65.877336  69.962497  215126640      0.0   \n",
              "\n",
              "   splitFactor  \n",
              "0          1.0  \n",
              "1          1.0  \n",
              "2          1.0  \n",
              "3          1.0  \n",
              "4          1.0  \n",
              "5          1.0  \n",
              "6          1.0  \n",
              "7          1.0  \n",
              "8          1.0  \n",
              "9          1.0  "
            ],
            "text/html": [
              "\n",
              "  <div id=\"df-ffc16048-5afa-436e-a5ac-587ad619a1f5\">\n",
              "    <div class=\"colab-df-container\">\n",
              "      <div>\n",
              "<style scoped>\n",
              "    .dataframe tbody tr th:only-of-type {\n",
              "        vertical-align: middle;\n",
              "    }\n",
              "\n",
              "    .dataframe tbody tr th {\n",
              "        vertical-align: top;\n",
              "    }\n",
              "\n",
              "    .dataframe thead th {\n",
              "        text-align: right;\n",
              "    }\n",
              "</style>\n",
              "<table border=\"1\" class=\"dataframe\">\n",
              "  <thead>\n",
              "    <tr style=\"text-align: right;\">\n",
              "      <th></th>\n",
              "      <th>symbol</th>\n",
              "      <th>date</th>\n",
              "      <th>close</th>\n",
              "      <th>high</th>\n",
              "      <th>low</th>\n",
              "      <th>open</th>\n",
              "      <th>volume</th>\n",
              "      <th>adjClose</th>\n",
              "      <th>adjHigh</th>\n",
              "      <th>adjLow</th>\n",
              "      <th>adjOpen</th>\n",
              "      <th>adjVolume</th>\n",
              "      <th>divCash</th>\n",
              "      <th>splitFactor</th>\n",
              "    </tr>\n",
              "  </thead>\n",
              "  <tbody>\n",
              "    <tr>\n",
              "      <th>0</th>\n",
              "      <td>AMZN</td>\n",
              "      <td>2018-01-23 00:00:00+00:00</td>\n",
              "      <td>1362.54</td>\n",
              "      <td>1364.90</td>\n",
              "      <td>1337.34</td>\n",
              "      <td>1338.09</td>\n",
              "      <td>5056764</td>\n",
              "      <td>67.963312</td>\n",
              "      <td>68.081028</td>\n",
              "      <td>66.706339</td>\n",
              "      <td>66.743749</td>\n",
              "      <td>101135280</td>\n",
              "      <td>0.0</td>\n",
              "      <td>1.0</td>\n",
              "    </tr>\n",
              "    <tr>\n",
              "      <th>1</th>\n",
              "      <td>AMZN</td>\n",
              "      <td>2018-01-24 00:00:00+00:00</td>\n",
              "      <td>1357.51</td>\n",
              "      <td>1388.16</td>\n",
              "      <td>1338.00</td>\n",
              "      <td>1374.82</td>\n",
              "      <td>6730084</td>\n",
              "      <td>67.712416</td>\n",
              "      <td>69.241234</td>\n",
              "      <td>66.739260</td>\n",
              "      <td>68.575837</td>\n",
              "      <td>134601680</td>\n",
              "      <td>0.0</td>\n",
              "      <td>1.0</td>\n",
              "    </tr>\n",
              "    <tr>\n",
              "      <th>2</th>\n",
              "      <td>AMZN</td>\n",
              "      <td>2018-01-25 00:00:00+00:00</td>\n",
              "      <td>1377.95</td>\n",
              "      <td>1378.34</td>\n",
              "      <td>1357.62</td>\n",
              "      <td>1368.00</td>\n",
              "      <td>4621862</td>\n",
              "      <td>68.731961</td>\n",
              "      <td>68.751414</td>\n",
              "      <td>67.717903</td>\n",
              "      <td>68.235656</td>\n",
              "      <td>92437240</td>\n",
              "      <td>0.0</td>\n",
              "      <td>1.0</td>\n",
              "    </tr>\n",
              "    <tr>\n",
              "      <th>3</th>\n",
              "      <td>AMZN</td>\n",
              "      <td>2018-01-26 00:00:00+00:00</td>\n",
              "      <td>1402.05</td>\n",
              "      <td>1402.53</td>\n",
              "      <td>1380.91</td>\n",
              "      <td>1392.01</td>\n",
              "      <td>4584082</td>\n",
              "      <td>69.934065</td>\n",
              "      <td>69.958008</td>\n",
              "      <td>68.879605</td>\n",
              "      <td>69.433272</td>\n",
              "      <td>91681640</td>\n",
              "      <td>0.0</td>\n",
              "      <td>1.0</td>\n",
              "    </tr>\n",
              "    <tr>\n",
              "      <th>4</th>\n",
              "      <td>AMZN</td>\n",
              "      <td>2018-01-29 00:00:00+00:00</td>\n",
              "      <td>1417.68</td>\n",
              "      <td>1431.39</td>\n",
              "      <td>1400.44</td>\n",
              "      <td>1409.18</td>\n",
              "      <td>5628992</td>\n",
              "      <td>70.713688</td>\n",
              "      <td>71.397541</td>\n",
              "      <td>69.853759</td>\n",
              "      <td>70.289709</td>\n",
              "      <td>112579840</td>\n",
              "      <td>0.0</td>\n",
              "      <td>1.0</td>\n",
              "    </tr>\n",
              "    <tr>\n",
              "      <th>5</th>\n",
              "      <td>AMZN</td>\n",
              "      <td>2018-01-30 00:00:00+00:00</td>\n",
              "      <td>1437.82</td>\n",
              "      <td>1439.25</td>\n",
              "      <td>1392.00</td>\n",
              "      <td>1403.17</td>\n",
              "      <td>5736512</td>\n",
              "      <td>71.718268</td>\n",
              "      <td>71.789596</td>\n",
              "      <td>69.432773</td>\n",
              "      <td>69.989931</td>\n",
              "      <td>114730240</td>\n",
              "      <td>0.0</td>\n",
              "      <td>1.0</td>\n",
              "    </tr>\n",
              "    <tr>\n",
              "      <th>6</th>\n",
              "      <td>AMZN</td>\n",
              "      <td>2018-01-31 00:00:00+00:00</td>\n",
              "      <td>1450.89</td>\n",
              "      <td>1472.58</td>\n",
              "      <td>1450.04</td>\n",
              "      <td>1451.30</td>\n",
              "      <td>6220396</td>\n",
              "      <td>72.370198</td>\n",
              "      <td>73.452092</td>\n",
              "      <td>72.327800</td>\n",
              "      <td>72.390649</td>\n",
              "      <td>124407920</td>\n",
              "      <td>0.0</td>\n",
              "      <td>1.0</td>\n",
              "    </tr>\n",
              "    <tr>\n",
              "      <th>7</th>\n",
              "      <td>AMZN</td>\n",
              "      <td>2018-02-01 00:00:00+00:00</td>\n",
              "      <td>1390.00</td>\n",
              "      <td>1459.88</td>\n",
              "      <td>1385.14</td>\n",
              "      <td>1445.00</td>\n",
              "      <td>7812953</td>\n",
              "      <td>69.333013</td>\n",
              "      <td>72.818618</td>\n",
              "      <td>69.090597</td>\n",
              "      <td>72.076406</td>\n",
              "      <td>156259060</td>\n",
              "      <td>0.0</td>\n",
              "      <td>1.0</td>\n",
              "    </tr>\n",
              "    <tr>\n",
              "      <th>8</th>\n",
              "      <td>AMZN</td>\n",
              "      <td>2018-02-02 00:00:00+00:00</td>\n",
              "      <td>1429.95</td>\n",
              "      <td>1498.00</td>\n",
              "      <td>1414.00</td>\n",
              "      <td>1477.39</td>\n",
              "      <td>10915962</td>\n",
              "      <td>71.325714</td>\n",
              "      <td>74.720038</td>\n",
              "      <td>70.530130</td>\n",
              "      <td>73.692014</td>\n",
              "      <td>218319240</td>\n",
              "      <td>0.0</td>\n",
              "      <td>1.0</td>\n",
              "    </tr>\n",
              "    <tr>\n",
              "      <th>9</th>\n",
              "      <td>AMZN</td>\n",
              "      <td>2018-02-05 00:00:00+00:00</td>\n",
              "      <td>1390.00</td>\n",
              "      <td>1458.98</td>\n",
              "      <td>1320.72</td>\n",
              "      <td>1402.62</td>\n",
              "      <td>10756332</td>\n",
              "      <td>69.333013</td>\n",
              "      <td>72.773726</td>\n",
              "      <td>65.877336</td>\n",
              "      <td>69.962497</td>\n",
              "      <td>215126640</td>\n",
              "      <td>0.0</td>\n",
              "      <td>1.0</td>\n",
              "    </tr>\n",
              "  </tbody>\n",
              "</table>\n",
              "</div>\n",
              "      <button class=\"colab-df-convert\" onclick=\"convertToInteractive('df-ffc16048-5afa-436e-a5ac-587ad619a1f5')\"\n",
              "              title=\"Convert this dataframe to an interactive table.\"\n",
              "              style=\"display:none;\">\n",
              "        \n",
              "  <svg xmlns=\"http://www.w3.org/2000/svg\" height=\"24px\"viewBox=\"0 0 24 24\"\n",
              "       width=\"24px\">\n",
              "    <path d=\"M0 0h24v24H0V0z\" fill=\"none\"/>\n",
              "    <path d=\"M18.56 5.44l.94 2.06.94-2.06 2.06-.94-2.06-.94-.94-2.06-.94 2.06-2.06.94zm-11 1L8.5 8.5l.94-2.06 2.06-.94-2.06-.94L8.5 2.5l-.94 2.06-2.06.94zm10 10l.94 2.06.94-2.06 2.06-.94-2.06-.94-.94-2.06-.94 2.06-2.06.94z\"/><path d=\"M17.41 7.96l-1.37-1.37c-.4-.4-.92-.59-1.43-.59-.52 0-1.04.2-1.43.59L10.3 9.45l-7.72 7.72c-.78.78-.78 2.05 0 2.83L4 21.41c.39.39.9.59 1.41.59.51 0 1.02-.2 1.41-.59l7.78-7.78 2.81-2.81c.8-.78.8-2.07 0-2.86zM5.41 20L4 18.59l7.72-7.72 1.47 1.35L5.41 20z\"/>\n",
              "  </svg>\n",
              "      </button>\n",
              "      \n",
              "  <style>\n",
              "    .colab-df-container {\n",
              "      display:flex;\n",
              "      flex-wrap:wrap;\n",
              "      gap: 12px;\n",
              "    }\n",
              "\n",
              "    .colab-df-convert {\n",
              "      background-color: #E8F0FE;\n",
              "      border: none;\n",
              "      border-radius: 50%;\n",
              "      cursor: pointer;\n",
              "      display: none;\n",
              "      fill: #1967D2;\n",
              "      height: 32px;\n",
              "      padding: 0 0 0 0;\n",
              "      width: 32px;\n",
              "    }\n",
              "\n",
              "    .colab-df-convert:hover {\n",
              "      background-color: #E2EBFA;\n",
              "      box-shadow: 0px 1px 2px rgba(60, 64, 67, 0.3), 0px 1px 3px 1px rgba(60, 64, 67, 0.15);\n",
              "      fill: #174EA6;\n",
              "    }\n",
              "\n",
              "    [theme=dark] .colab-df-convert {\n",
              "      background-color: #3B4455;\n",
              "      fill: #D2E3FC;\n",
              "    }\n",
              "\n",
              "    [theme=dark] .colab-df-convert:hover {\n",
              "      background-color: #434B5C;\n",
              "      box-shadow: 0px 1px 3px 1px rgba(0, 0, 0, 0.15);\n",
              "      filter: drop-shadow(0px 1px 2px rgba(0, 0, 0, 0.3));\n",
              "      fill: #FFFFFF;\n",
              "    }\n",
              "  </style>\n",
              "\n",
              "      <script>\n",
              "        const buttonEl =\n",
              "          document.querySelector('#df-ffc16048-5afa-436e-a5ac-587ad619a1f5 button.colab-df-convert');\n",
              "        buttonEl.style.display =\n",
              "          google.colab.kernel.accessAllowed ? 'block' : 'none';\n",
              "\n",
              "        async function convertToInteractive(key) {\n",
              "          const element = document.querySelector('#df-ffc16048-5afa-436e-a5ac-587ad619a1f5');\n",
              "          const dataTable =\n",
              "            await google.colab.kernel.invokeFunction('convertToInteractive',\n",
              "                                                     [key], {});\n",
              "          if (!dataTable) return;\n",
              "\n",
              "          const docLinkHtml = 'Like what you see? Visit the ' +\n",
              "            '<a target=\"_blank\" href=https://colab.research.google.com/notebooks/data_table.ipynb>data table notebook</a>'\n",
              "            + ' to learn more about interactive tables.';\n",
              "          element.innerHTML = '';\n",
              "          dataTable['output_type'] = 'display_data';\n",
              "          await google.colab.output.renderOutput(dataTable, element);\n",
              "          const docLink = document.createElement('div');\n",
              "          docLink.innerHTML = docLinkHtml;\n",
              "          element.appendChild(docLink);\n",
              "        }\n",
              "      </script>\n",
              "    </div>\n",
              "  </div>\n",
              "  "
            ]
          },
          "metadata": {},
          "execution_count": 13
        }
      ]
    },
    {
      "cell_type": "code",
      "source": [
        "import matplotlib.pyplot as plt\n",
        "plt.plot(df['close'])"
      ],
      "metadata": {
        "colab": {
          "base_uri": "https://localhost:8080/",
          "height": 282
        },
        "id": "jzEZ6CHl4WrW",
        "outputId": "e5a3d28e-ca58-4460-f819-557407a81aa7"
      },
      "execution_count": 20,
      "outputs": [
        {
          "output_type": "execute_result",
          "data": {
            "text/plain": [
              "[<matplotlib.lines.Line2D at 0x7f1cc3982ca0>]"
            ]
          },
          "metadata": {},
          "execution_count": 20
        },
        {
          "output_type": "display_data",
          "data": {
            "text/plain": [
              "<Figure size 432x288 with 1 Axes>"
            ],
            "image/png": "[encoded data removed]"
          },
          "metadata": {
            "needs_background": "light"
          }
        }
      ]
    },
    {
      "cell_type": "code",
      "source": [
        "# Scaling the data\n",
        "df1=df.close\n",
        "from sklearn.preprocessing import MinMaxScaler\n",
        "scaler=MinMaxScaler(feature_range=(0,1))\n",
        "df1=scaler.fit_transform(np.array(df1).reshape(-1,1))"
      ],
      "metadata": {
        "id": "uIqcNZrqUQcA"
      },
      "execution_count": 21,
      "outputs": []
    },
    {
      "cell_type": "code",
      "source": [
        "training_size=int(len(df1)*0.8)\n",
        "test_size=len(df1)-training_size\n",
        "train_data,test_data=df1[0:training_size,:],df1[training_size:len(df1),:1]"
      ],
      "metadata": {
        "id": "5Qrg2lhCWDQk"
      },
      "execution_count": 23,
      "outputs": []
    },
    {
      "cell_type": "code",
      "source": [
        "# Function to create dataset\n",
        "import numpy\n",
        "def create_dataset(dataset, time_step=1):\n",
        "\tdataX, dataY = [], []\n",
        "\tfor i in range(len(dataset)-time_step):\n",
        "\t\ta = dataset[i:(i+time_step), 0]\n",
        "\t\tdataX.append(a)\n",
        "\t\tdataY.append(dataset[i + time_step, 0])\n",
        "\treturn numpy.array(dataX), numpy.array(dataY)"
      ],
      "metadata": {
        "id": "RWsJYVZgWnUw"
      },
      "execution_count": 26,
      "outputs": []
    },
    {
      "cell_type": "code",
      "source": [
        "# reshape into X=t,t+1,t+2,t+3 and Y=t+4\n",
        "time_step = 100\n",
        "c = create_dataset(train_data, time_step)\n",
        "X_test, ytest = create_dataset(test_data, time_step)"
      ],
      "metadata": {
        "id": "tL7heOJKXJpi"
      },
      "execution_count": 27,
      "outputs": []
    },
    {
      "cell_type": "code",
      "source": [
        "X_train =np.expand_dims(X_train , axis=-1)\n",
        "X_test = X_test.reshape(X_test.shape[0],X_test.shape[1] , 1)"
      ],
      "metadata": {
        "id": "3ue-QQE0Xb9p"
      },
      "execution_count": 30,
      "outputs": []
    },
    {
      "cell_type": "code",
      "source": [
        "### Create the Stacked LSTM model\n",
        "import tensorflow as tf\n",
        "from tensorflow.keras.models import Sequential\n",
        "from tensorflow.keras.layers import Dense, Dropout\n",
        "from tensorflow.keras.layers import LSTM,Conv1D,Bidirectional"
      ],
      "metadata": {
        "id": "K6xmdUq_X9rO"
      },
      "execution_count": 33,
      "outputs": []
    },
    {
      "cell_type": "code",
      "source": [
        "# Training\n",
        "model=Sequential([\n",
        "    Conv1D(32,kernel_size=10,strides=1,activation='relu',input_shape=(100,1)),\n",
        "    Bidirectional(LSTM(64,return_sequences=True)),\n",
        "    Bidirectional(LSTM(32,return_sequences=True)),\n",
        "    Bidirectional(LSTM(32)),\n",
        "    Dense(1)])\n",
        "\n",
        "\n",
        "ES = tf.keras.callbacks.EarlyStopping(patience=2, monitor=\"mae\", verbose=1, min_delta=0.001)\n",
        "MC = tf.keras.callbacks.ModelCheckpoint(\"close.h5\", patience=2, monitor=\"mean_absolute_error\", verbose=1,\n",
        "                                            save_best_only=True, min_delta=0.001)\n",
        "LRS = tf.keras.callbacks.LearningRateScheduler(lambda epochs: 1e-5 * 10 ** (epochs / 20), verbose=1)\n",
        "model.compile(\n",
        "        loss='mse',\n",
        "        optimizer=\"adam\",\n",
        "        metrics=['mean_absolute_error']\n",
        "    )\n",
        "model.fit(X_train,y_train,validation_data=(X_test,ytest),epochs=50,verbose=1,callbacks=[ES,MC])\n"
      ],
      "metadata": {
        "colab": {
          "base_uri": "https://localhost:8080/"
        },
        "id": "2en_U-q9YE8R",
        "outputId": "49a8ed15-3f25-4ab9-80be-5ba5db75aa51"
      },
      "execution_count": 34,
      "outputs": [
        {
          "output_type": "stream",
          "name": "stdout",
          "text": [
            "Epoch 1/50\n",
            "28/29 [===========================>..] - ETA: 0s - loss: 0.0316 - mean_absolute_error: 0.1295"
          ]
        },
        {
          "output_type": "stream",
          "name": "stderr",
          "text": [
            "WARNING:tensorflow:Early stopping conditioned on metric `mae` which is not available. Available metrics are: loss,mean_absolute_error,val_loss,val_mean_absolute_error\n"
          ]
        },
        {
          "output_type": "stream",
          "name": "stdout",
          "text": [
            "\n",
            "Epoch 1: mean_absolute_error improved from inf to 0.12898, saving model to mymodel.h5\n",
            "29/29 [==============================] - 22s 192ms/step - loss: 0.0313 - mean_absolute_error: 0.1290 - val_loss: 0.0699 - val_mean_absolute_error: 0.2148\n",
            "Epoch 2/50\n",
            "29/29 [==============================] - ETA: 0s - loss: 0.0044 - mean_absolute_error: 0.0518"
          ]
        },
        {
          "output_type": "stream",
          "name": "stderr",
          "text": [
            "WARNING:tensorflow:Early stopping conditioned on metric `mae` which is not available. Available metrics are: loss,mean_absolute_error,val_loss,val_mean_absolute_error\n"
          ]
        },
        {
          "output_type": "stream",
          "name": "stdout",
          "text": [
            "\n",
            "Epoch 2: mean_absolute_error improved from 0.12898 to 0.05177, saving model to mymodel.h5\n",
            "29/29 [==============================] - 1s 44ms/step - loss: 0.0044 - mean_absolute_error: 0.0518 - val_loss: 0.0619 - val_mean_absolute_error: 0.1751\n",
            "Epoch 3/50\n",
            "29/29 [==============================] - ETA: 0s - loss: 0.0022 - mean_absolute_error: 0.0370"
          ]
        },
        {
          "output_type": "stream",
          "name": "stderr",
          "text": [
            "WARNING:tensorflow:Early stopping conditioned on metric `mae` which is not available. Available metrics are: loss,mean_absolute_error,val_loss,val_mean_absolute_error\n"
          ]
        },
        {
          "output_type": "stream",
          "name": "stdout",
          "text": [
            "\n",
            "Epoch 3: mean_absolute_error improved from 0.05177 to 0.03704, saving model to mymodel.h5\n",
            "29/29 [==============================] - 1s 52ms/step - loss: 0.0022 - mean_absolute_error: 0.0370 - val_loss: 0.0400 - val_mean_absolute_error: 0.1441\n",
            "Epoch 4/50\n",
            "27/29 [==========================>...] - ETA: 0s - loss: 0.0017 - mean_absolute_error: 0.0328"
          ]
        },
        {
          "output_type": "stream",
          "name": "stderr",
          "text": [
            "WARNING:tensorflow:Early stopping conditioned on metric `mae` which is not available. Available metrics are: loss,mean_absolute_error,val_loss,val_mean_absolute_error\n"
          ]
        },
        {
          "output_type": "stream",
          "name": "stdout",
          "text": [
            "\n",
            "Epoch 4: mean_absolute_error improved from 0.03704 to 0.03289, saving model to mymodel.h5\n",
            "29/29 [==============================] - 1s 35ms/step - loss: 0.0018 - mean_absolute_error: 0.0329 - val_loss: 0.0267 - val_mean_absolute_error: 0.1112\n",
            "Epoch 5/50\n",
            "28/29 [===========================>..] - ETA: 0s - loss: 0.0015 - mean_absolute_error: 0.0303"
          ]
        },
        {
          "output_type": "stream",
          "name": "stderr",
          "text": [
            "WARNING:tensorflow:Early stopping conditioned on metric `mae` which is not available. Available metrics are: loss,mean_absolute_error,val_loss,val_mean_absolute_error\n"
          ]
        },
        {
          "output_type": "stream",
          "name": "stdout",
          "text": [
            "\n",
            "Epoch 5: mean_absolute_error improved from 0.03289 to 0.03036, saving model to mymodel.h5\n",
            "29/29 [==============================] - 1s 25ms/step - loss: 0.0015 - mean_absolute_error: 0.0304 - val_loss: 0.0155 - val_mean_absolute_error: 0.0772\n",
            "Epoch 6/50\n",
            "28/29 [===========================>..] - ETA: 0s - loss: 0.0012 - mean_absolute_error: 0.0275"
          ]
        },
        {
          "output_type": "stream",
          "name": "stderr",
          "text": [
            "WARNING:tensorflow:Early stopping conditioned on metric `mae` which is not available. Available metrics are: loss,mean_absolute_error,val_loss,val_mean_absolute_error\n"
          ]
        },
        {
          "output_type": "stream",
          "name": "stdout",
          "text": [
            "\n",
            "Epoch 6: mean_absolute_error improved from 0.03036 to 0.02749, saving model to mymodel.h5\n",
            "29/29 [==============================] - 1s 25ms/step - loss: 0.0012 - mean_absolute_error: 0.0275 - val_loss: 0.0118 - val_mean_absolute_error: 0.0555\n",
            "Epoch 7/50\n",
            "29/29 [==============================] - ETA: 0s - loss: 0.0014 - mean_absolute_error: 0.0289"
          ]
        },
        {
          "output_type": "stream",
          "name": "stderr",
          "text": [
            "WARNING:tensorflow:Early stopping conditioned on metric `mae` which is not available. Available metrics are: loss,mean_absolute_error,val_loss,val_mean_absolute_error\n"
          ]
        },
        {
          "output_type": "stream",
          "name": "stdout",
          "text": [
            "\n",
            "Epoch 7: mean_absolute_error did not improve from 0.02749\n",
            "29/29 [==============================] - 1s 24ms/step - loss: 0.0014 - mean_absolute_error: 0.0289 - val_loss: 0.0101 - val_mean_absolute_error: 0.0542\n",
            "Epoch 8/50\n",
            "28/29 [===========================>..] - ETA: 0s - loss: 0.0014 - mean_absolute_error: 0.0294"
          ]
        },
        {
          "output_type": "stream",
          "name": "stderr",
          "text": [
            "WARNING:tensorflow:Early stopping conditioned on metric `mae` which is not available. Available metrics are: loss,mean_absolute_error,val_loss,val_mean_absolute_error\n"
          ]
        },
        {
          "output_type": "stream",
          "name": "stdout",
          "text": [
            "\n",
            "Epoch 8: mean_absolute_error did not improve from 0.02749\n",
            "29/29 [==============================] - 1s 23ms/step - loss: 0.0014 - mean_absolute_error: 0.0293 - val_loss: 0.0106 - val_mean_absolute_error: 0.0546\n",
            "Epoch 9/50\n",
            "27/29 [==========================>...] - ETA: 0s - loss: 0.0011 - mean_absolute_error: 0.0259"
          ]
        },
        {
          "output_type": "stream",
          "name": "stderr",
          "text": [
            "WARNING:tensorflow:Early stopping conditioned on metric `mae` which is not available. Available metrics are: loss,mean_absolute_error,val_loss,val_mean_absolute_error\n"
          ]
        },
        {
          "output_type": "stream",
          "name": "stdout",
          "text": [
            "\n",
            "Epoch 9: mean_absolute_error improved from 0.02749 to 0.02587, saving model to mymodel.h5\n",
            "29/29 [==============================] - 1s 26ms/step - loss: 0.0011 - mean_absolute_error: 0.0259 - val_loss: 0.0103 - val_mean_absolute_error: 0.0547\n",
            "Epoch 10/50\n",
            "28/29 [===========================>..] - ETA: 0s - loss: 0.0011 - mean_absolute_error: 0.0254"
          ]
        },
        {
          "output_type": "stream",
          "name": "stderr",
          "text": [
            "WARNING:tensorflow:Early stopping conditioned on metric `mae` which is not available. Available metrics are: loss,mean_absolute_error,val_loss,val_mean_absolute_error\n"
          ]
        },
        {
          "output_type": "stream",
          "name": "stdout",
          "text": [
            "\n",
            "Epoch 10: mean_absolute_error improved from 0.02587 to 0.02536, saving model to mymodel.h5\n",
            "29/29 [==============================] - 1s 25ms/step - loss: 0.0011 - mean_absolute_error: 0.0254 - val_loss: 0.0100 - val_mean_absolute_error: 0.0552\n",
            "Epoch 11/50\n",
            "28/29 [===========================>..] - ETA: 0s - loss: 0.0013 - mean_absolute_error: 0.0276"
          ]
        },
        {
          "output_type": "stream",
          "name": "stderr",
          "text": [
            "WARNING:tensorflow:Early stopping conditioned on metric `mae` which is not available. Available metrics are: loss,mean_absolute_error,val_loss,val_mean_absolute_error\n"
          ]
        },
        {
          "output_type": "stream",
          "name": "stdout",
          "text": [
            "\n",
            "Epoch 11: mean_absolute_error did not improve from 0.02536\n",
            "29/29 [==============================] - 1s 22ms/step - loss: 0.0013 - mean_absolute_error: 0.0275 - val_loss: 0.0093 - val_mean_absolute_error: 0.0522\n",
            "Epoch 12/50\n",
            "28/29 [===========================>..] - ETA: 0s - loss: 0.0010 - mean_absolute_error: 0.0246"
          ]
        },
        {
          "output_type": "stream",
          "name": "stderr",
          "text": [
            "WARNING:tensorflow:Early stopping conditioned on metric `mae` which is not available. Available metrics are: loss,mean_absolute_error,val_loss,val_mean_absolute_error\n"
          ]
        },
        {
          "output_type": "stream",
          "name": "stdout",
          "text": [
            "\n",
            "Epoch 12: mean_absolute_error improved from 0.02536 to 0.02449, saving model to mymodel.h5\n",
            "29/29 [==============================] - 1s 25ms/step - loss: 0.0010 - mean_absolute_error: 0.0245 - val_loss: 0.0081 - val_mean_absolute_error: 0.0532\n",
            "Epoch 13/50\n",
            "28/29 [===========================>..] - ETA: 0s - loss: 0.0010 - mean_absolute_error: 0.0245"
          ]
        },
        {
          "output_type": "stream",
          "name": "stderr",
          "text": [
            "WARNING:tensorflow:Early stopping conditioned on metric `mae` which is not available. Available metrics are: loss,mean_absolute_error,val_loss,val_mean_absolute_error\n"
          ]
        },
        {
          "output_type": "stream",
          "name": "stdout",
          "text": [
            "\n",
            "Epoch 13: mean_absolute_error did not improve from 0.02449\n",
            "29/29 [==============================] - 1s 23ms/step - loss: 0.0011 - mean_absolute_error: 0.0245 - val_loss: 0.0077 - val_mean_absolute_error: 0.0516\n",
            "Epoch 14/50\n",
            "28/29 [===========================>..] - ETA: 0s - loss: 0.0010 - mean_absolute_error: 0.0249"
          ]
        },
        {
          "output_type": "stream",
          "name": "stderr",
          "text": [
            "WARNING:tensorflow:Early stopping conditioned on metric `mae` which is not available. Available metrics are: loss,mean_absolute_error,val_loss,val_mean_absolute_error\n"
          ]
        },
        {
          "output_type": "stream",
          "name": "stdout",
          "text": [
            "\n",
            "Epoch 14: mean_absolute_error did not improve from 0.02449\n",
            "29/29 [==============================] - 1s 23ms/step - loss: 0.0010 - mean_absolute_error: 0.0248 - val_loss: 0.0073 - val_mean_absolute_error: 0.0502\n",
            "Epoch 15/50\n",
            "28/29 [===========================>..] - ETA: 0s - loss: 0.0011 - mean_absolute_error: 0.0263"
          ]
        },
        {
          "output_type": "stream",
          "name": "stderr",
          "text": [
            "WARNING:tensorflow:Early stopping conditioned on metric `mae` which is not available. Available metrics are: loss,mean_absolute_error,val_loss,val_mean_absolute_error\n"
          ]
        },
        {
          "output_type": "stream",
          "name": "stdout",
          "text": [
            "\n",
            "Epoch 15: mean_absolute_error did not improve from 0.02449\n",
            "29/29 [==============================] - 1s 23ms/step - loss: 0.0011 - mean_absolute_error: 0.0261 - val_loss: 0.0079 - val_mean_absolute_error: 0.0455\n",
            "Epoch 16/50\n",
            "28/29 [===========================>..] - ETA: 0s - loss: 9.7563e-04 - mean_absolute_error: 0.0238"
          ]
        },
        {
          "output_type": "stream",
          "name": "stderr",
          "text": [
            "WARNING:tensorflow:Early stopping conditioned on metric `mae` which is not available. Available metrics are: loss,mean_absolute_error,val_loss,val_mean_absolute_error\n"
          ]
        },
        {
          "output_type": "stream",
          "name": "stdout",
          "text": [
            "\n",
            "Epoch 16: mean_absolute_error improved from 0.02449 to 0.02377, saving model to mymodel.h5\n",
            "29/29 [==============================] - 1s 25ms/step - loss: 9.6947e-04 - mean_absolute_error: 0.0238 - val_loss: 0.0075 - val_mean_absolute_error: 0.0457\n",
            "Epoch 17/50\n",
            "28/29 [===========================>..] - ETA: 0s - loss: 0.0010 - mean_absolute_error: 0.0243"
          ]
        },
        {
          "output_type": "stream",
          "name": "stderr",
          "text": [
            "WARNING:tensorflow:Early stopping conditioned on metric `mae` which is not available. Available metrics are: loss,mean_absolute_error,val_loss,val_mean_absolute_error\n"
          ]
        },
        {
          "output_type": "stream",
          "name": "stdout",
          "text": [
            "\n",
            "Epoch 17: mean_absolute_error did not improve from 0.02377\n",
            "29/29 [==============================] - 1s 23ms/step - loss: 9.9856e-04 - mean_absolute_error: 0.0242 - val_loss: 0.0062 - val_mean_absolute_error: 0.0425\n",
            "Epoch 18/50\n",
            "27/29 [==========================>...] - ETA: 0s - loss: 0.0011 - mean_absolute_error: 0.0261"
          ]
        },
        {
          "output_type": "stream",
          "name": "stderr",
          "text": [
            "WARNING:tensorflow:Early stopping conditioned on metric `mae` which is not available. Available metrics are: loss,mean_absolute_error,val_loss,val_mean_absolute_error\n"
          ]
        },
        {
          "output_type": "stream",
          "name": "stdout",
          "text": [
            "\n",
            "Epoch 18: mean_absolute_error did not improve from 0.02377\n",
            "29/29 [==============================] - 1s 24ms/step - loss: 0.0011 - mean_absolute_error: 0.0258 - val_loss: 0.0069 - val_mean_absolute_error: 0.0431\n",
            "Epoch 19/50\n",
            "27/29 [==========================>...] - ETA: 0s - loss: 9.4810e-04 - mean_absolute_error: 0.0236"
          ]
        },
        {
          "output_type": "stream",
          "name": "stderr",
          "text": [
            "WARNING:tensorflow:Early stopping conditioned on metric `mae` which is not available. Available metrics are: loss,mean_absolute_error,val_loss,val_mean_absolute_error\n"
          ]
        },
        {
          "output_type": "stream",
          "name": "stdout",
          "text": [
            "\n",
            "Epoch 19: mean_absolute_error did not improve from 0.02377\n",
            "29/29 [==============================] - 1s 24ms/step - loss: 9.5852e-04 - mean_absolute_error: 0.0238 - val_loss: 0.0063 - val_mean_absolute_error: 0.0405\n",
            "Epoch 20/50\n",
            "28/29 [===========================>..] - ETA: 0s - loss: 0.0010 - mean_absolute_error: 0.0246"
          ]
        },
        {
          "output_type": "stream",
          "name": "stderr",
          "text": [
            "WARNING:tensorflow:Early stopping conditioned on metric `mae` which is not available. Available metrics are: loss,mean_absolute_error,val_loss,val_mean_absolute_error\n"
          ]
        },
        {
          "output_type": "stream",
          "name": "stdout",
          "text": [
            "\n",
            "Epoch 20: mean_absolute_error did not improve from 0.02377\n",
            "29/29 [==============================] - 1s 23ms/step - loss: 0.0010 - mean_absolute_error: 0.0245 - val_loss: 0.0060 - val_mean_absolute_error: 0.0400\n",
            "Epoch 21/50\n",
            "27/29 [==========================>...] - ETA: 0s - loss: 8.9067e-04 - mean_absolute_error: 0.0227"
          ]
        },
        {
          "output_type": "stream",
          "name": "stderr",
          "text": [
            "WARNING:tensorflow:Early stopping conditioned on metric `mae` which is not available. Available metrics are: loss,mean_absolute_error,val_loss,val_mean_absolute_error\n"
          ]
        },
        {
          "output_type": "stream",
          "name": "stdout",
          "text": [
            "\n",
            "Epoch 21: mean_absolute_error improved from 0.02377 to 0.02256, saving model to mymodel.h5\n",
            "29/29 [==============================] - 1s 27ms/step - loss: 8.7881e-04 - mean_absolute_error: 0.0226 - val_loss: 0.0055 - val_mean_absolute_error: 0.0368\n",
            "Epoch 22/50\n",
            "29/29 [==============================] - ETA: 0s - loss: 9.8675e-04 - mean_absolute_error: 0.0245"
          ]
        },
        {
          "output_type": "stream",
          "name": "stderr",
          "text": [
            "WARNING:tensorflow:Early stopping conditioned on metric `mae` which is not available. Available metrics are: loss,mean_absolute_error,val_loss,val_mean_absolute_error\n"
          ]
        },
        {
          "output_type": "stream",
          "name": "stdout",
          "text": [
            "\n",
            "Epoch 22: mean_absolute_error did not improve from 0.02256\n",
            "29/29 [==============================] - 1s 23ms/step - loss: 9.8675e-04 - mean_absolute_error: 0.0245 - val_loss: 0.0049 - val_mean_absolute_error: 0.0360\n",
            "Epoch 23/50\n",
            "27/29 [==========================>...] - ETA: 0s - loss: 9.4073e-04 - mean_absolute_error: 0.0236"
          ]
        },
        {
          "output_type": "stream",
          "name": "stderr",
          "text": [
            "WARNING:tensorflow:Early stopping conditioned on metric `mae` which is not available. Available metrics are: loss,mean_absolute_error,val_loss,val_mean_absolute_error\n"
          ]
        },
        {
          "output_type": "stream",
          "name": "stdout",
          "text": [
            "\n",
            "Epoch 23: mean_absolute_error did not improve from 0.02256\n",
            "29/29 [==============================] - 1s 23ms/step - loss: 9.3476e-04 - mean_absolute_error: 0.0235 - val_loss: 0.0059 - val_mean_absolute_error: 0.0440\n",
            "Epoch 24/50\n",
            "29/29 [==============================] - ETA: 0s - loss: 8.0892e-04 - mean_absolute_error: 0.0217"
          ]
        },
        {
          "output_type": "stream",
          "name": "stderr",
          "text": [
            "WARNING:tensorflow:Early stopping conditioned on metric `mae` which is not available. Available metrics are: loss,mean_absolute_error,val_loss,val_mean_absolute_error\n"
          ]
        },
        {
          "output_type": "stream",
          "name": "stdout",
          "text": [
            "\n",
            "Epoch 24: mean_absolute_error improved from 0.02256 to 0.02172, saving model to mymodel.h5\n",
            "29/29 [==============================] - 1s 37ms/step - loss: 8.0892e-04 - mean_absolute_error: 0.0217 - val_loss: 0.0050 - val_mean_absolute_error: 0.0384\n",
            "Epoch 25/50\n",
            "28/29 [===========================>..] - ETA: 0s - loss: 0.0011 - mean_absolute_error: 0.0260"
          ]
        },
        {
          "output_type": "stream",
          "name": "stderr",
          "text": [
            "WARNING:tensorflow:Early stopping conditioned on metric `mae` which is not available. Available metrics are: loss,mean_absolute_error,val_loss,val_mean_absolute_error\n"
          ]
        },
        {
          "output_type": "stream",
          "name": "stdout",
          "text": [
            "\n",
            "Epoch 25: mean_absolute_error did not improve from 0.02172\n",
            "29/29 [==============================] - 1s 23ms/step - loss: 0.0011 - mean_absolute_error: 0.0260 - val_loss: 0.0056 - val_mean_absolute_error: 0.0473\n",
            "Epoch 26/50\n",
            "28/29 [===========================>..] - ETA: 0s - loss: 0.0011 - mean_absolute_error: 0.0261"
          ]
        },
        {
          "output_type": "stream",
          "name": "stderr",
          "text": [
            "WARNING:tensorflow:Early stopping conditioned on metric `mae` which is not available. Available metrics are: loss,mean_absolute_error,val_loss,val_mean_absolute_error\n"
          ]
        },
        {
          "output_type": "stream",
          "name": "stdout",
          "text": [
            "\n",
            "Epoch 26: mean_absolute_error did not improve from 0.02172\n",
            "29/29 [==============================] - 1s 36ms/step - loss: 0.0011 - mean_absolute_error: 0.0260 - val_loss: 0.0051 - val_mean_absolute_error: 0.0413\n",
            "Epoch 27/50\n",
            "29/29 [==============================] - ETA: 0s - loss: 7.4900e-04 - mean_absolute_error: 0.0210"
          ]
        },
        {
          "output_type": "stream",
          "name": "stderr",
          "text": [
            "WARNING:tensorflow:Early stopping conditioned on metric `mae` which is not available. Available metrics are: loss,mean_absolute_error,val_loss,val_mean_absolute_error\n"
          ]
        },
        {
          "output_type": "stream",
          "name": "stdout",
          "text": [
            "\n",
            "Epoch 27: mean_absolute_error improved from 0.02172 to 0.02097, saving model to mymodel.h5\n",
            "29/29 [==============================] - 1s 44ms/step - loss: 7.4900e-04 - mean_absolute_error: 0.0210 - val_loss: 0.0049 - val_mean_absolute_error: 0.0434\n",
            "Epoch 28/50\n",
            "29/29 [==============================] - ETA: 0s - loss: 8.2206e-04 - mean_absolute_error: 0.0222"
          ]
        },
        {
          "output_type": "stream",
          "name": "stderr",
          "text": [
            "WARNING:tensorflow:Early stopping conditioned on metric `mae` which is not available. Available metrics are: loss,mean_absolute_error,val_loss,val_mean_absolute_error\n"
          ]
        },
        {
          "output_type": "stream",
          "name": "stdout",
          "text": [
            "\n",
            "Epoch 28: mean_absolute_error did not improve from 0.02097\n",
            "29/29 [==============================] - 1s 44ms/step - loss: 8.2206e-04 - mean_absolute_error: 0.0222 - val_loss: 0.0045 - val_mean_absolute_error: 0.0406\n",
            "Epoch 29/50\n",
            "29/29 [==============================] - ETA: 0s - loss: 7.1714e-04 - mean_absolute_error: 0.0205"
          ]
        },
        {
          "output_type": "stream",
          "name": "stderr",
          "text": [
            "WARNING:tensorflow:Early stopping conditioned on metric `mae` which is not available. Available metrics are: loss,mean_absolute_error,val_loss,val_mean_absolute_error\n"
          ]
        },
        {
          "output_type": "stream",
          "name": "stdout",
          "text": [
            "\n",
            "Epoch 29: mean_absolute_error improved from 0.02097 to 0.02047, saving model to mymodel.h5\n",
            "29/29 [==============================] - 1s 31ms/step - loss: 7.1714e-04 - mean_absolute_error: 0.0205 - val_loss: 0.0046 - val_mean_absolute_error: 0.0426\n",
            "Epoch 30/50\n",
            "29/29 [==============================] - ETA: 0s - loss: 8.0131e-04 - mean_absolute_error: 0.0218"
          ]
        },
        {
          "output_type": "stream",
          "name": "stderr",
          "text": [
            "WARNING:tensorflow:Early stopping conditioned on metric `mae` which is not available. Available metrics are: loss,mean_absolute_error,val_loss,val_mean_absolute_error\n"
          ]
        },
        {
          "output_type": "stream",
          "name": "stdout",
          "text": [
            "\n",
            "Epoch 30: mean_absolute_error did not improve from 0.02047\n",
            "29/29 [==============================] - 1s 24ms/step - loss: 8.0131e-04 - mean_absolute_error: 0.0218 - val_loss: 0.0052 - val_mean_absolute_error: 0.0504\n",
            "Epoch 31/50\n",
            "28/29 [===========================>..] - ETA: 0s - loss: 6.6666e-04 - mean_absolute_error: 0.0198"
          ]
        },
        {
          "output_type": "stream",
          "name": "stderr",
          "text": [
            "WARNING:tensorflow:Early stopping conditioned on metric `mae` which is not available. Available metrics are: loss,mean_absolute_error,val_loss,val_mean_absolute_error\n"
          ]
        },
        {
          "output_type": "stream",
          "name": "stdout",
          "text": [
            "\n",
            "Epoch 31: mean_absolute_error improved from 0.02047 to 0.01982, saving model to mymodel.h5\n",
            "29/29 [==============================] - 1s 26ms/step - loss: 6.7267e-04 - mean_absolute_error: 0.0198 - val_loss: 0.0036 - val_mean_absolute_error: 0.0355\n",
            "Epoch 32/50\n",
            "27/29 [==========================>...] - ETA: 0s - loss: 0.0010 - mean_absolute_error: 0.0259"
          ]
        },
        {
          "output_type": "stream",
          "name": "stderr",
          "text": [
            "WARNING:tensorflow:Early stopping conditioned on metric `mae` which is not available. Available metrics are: loss,mean_absolute_error,val_loss,val_mean_absolute_error\n"
          ]
        },
        {
          "output_type": "stream",
          "name": "stdout",
          "text": [
            "\n",
            "Epoch 32: mean_absolute_error did not improve from 0.01982\n",
            "29/29 [==============================] - 1s 25ms/step - loss: 0.0010 - mean_absolute_error: 0.0255 - val_loss: 0.0045 - val_mean_absolute_error: 0.0466\n",
            "Epoch 33/50\n",
            "27/29 [==========================>...] - ETA: 0s - loss: 7.6042e-04 - mean_absolute_error: 0.0211"
          ]
        },
        {
          "output_type": "stream",
          "name": "stderr",
          "text": [
            "WARNING:tensorflow:Early stopping conditioned on metric `mae` which is not available. Available metrics are: loss,mean_absolute_error,val_loss,val_mean_absolute_error\n"
          ]
        },
        {
          "output_type": "stream",
          "name": "stdout",
          "text": [
            "\n",
            "Epoch 33: mean_absolute_error did not improve from 0.01982\n",
            "29/29 [==============================] - 1s 24ms/step - loss: 7.6358e-04 - mean_absolute_error: 0.0211 - val_loss: 0.0040 - val_mean_absolute_error: 0.0441\n",
            "Epoch 34/50\n",
            "28/29 [===========================>..] - ETA: 0s - loss: 9.0010e-04 - mean_absolute_error: 0.0234"
          ]
        },
        {
          "output_type": "stream",
          "name": "stderr",
          "text": [
            "WARNING:tensorflow:Early stopping conditioned on metric `mae` which is not available. Available metrics are: loss,mean_absolute_error,val_loss,val_mean_absolute_error\n"
          ]
        },
        {
          "output_type": "stream",
          "name": "stdout",
          "text": [
            "\n",
            "Epoch 34: mean_absolute_error did not improve from 0.01982\n",
            "29/29 [==============================] - 1s 24ms/step - loss: 9.0056e-04 - mean_absolute_error: 0.0234 - val_loss: 0.0043 - val_mean_absolute_error: 0.0443\n",
            "Epoch 35/50\n",
            "27/29 [==========================>...] - ETA: 0s - loss: 7.2385e-04 - mean_absolute_error: 0.0205"
          ]
        },
        {
          "output_type": "stream",
          "name": "stderr",
          "text": [
            "WARNING:tensorflow:Early stopping conditioned on metric `mae` which is not available. Available metrics are: loss,mean_absolute_error,val_loss,val_mean_absolute_error\n"
          ]
        },
        {
          "output_type": "stream",
          "name": "stdout",
          "text": [
            "\n",
            "Epoch 35: mean_absolute_error did not improve from 0.01982\n",
            "29/29 [==============================] - 1s 23ms/step - loss: 7.1715e-04 - mean_absolute_error: 0.0205 - val_loss: 0.0042 - val_mean_absolute_error: 0.0442\n",
            "Epoch 36/50\n",
            "27/29 [==========================>...] - ETA: 0s - loss: 6.0637e-04 - mean_absolute_error: 0.0186"
          ]
        },
        {
          "output_type": "stream",
          "name": "stderr",
          "text": [
            "WARNING:tensorflow:Early stopping conditioned on metric `mae` which is not available. Available metrics are: loss,mean_absolute_error,val_loss,val_mean_absolute_error\n"
          ]
        },
        {
          "output_type": "stream",
          "name": "stdout",
          "text": [
            "\n",
            "Epoch 36: mean_absolute_error improved from 0.01982 to 0.01867, saving model to mymodel.h5\n",
            "29/29 [==============================] - 1s 26ms/step - loss: 6.0911e-04 - mean_absolute_error: 0.0187 - val_loss: 0.0037 - val_mean_absolute_error: 0.0406\n",
            "Epoch 37/50\n",
            "28/29 [===========================>..] - ETA: 0s - loss: 5.7964e-04 - mean_absolute_error: 0.0184"
          ]
        },
        {
          "output_type": "stream",
          "name": "stderr",
          "text": [
            "WARNING:tensorflow:Early stopping conditioned on metric `mae` which is not available. Available metrics are: loss,mean_absolute_error,val_loss,val_mean_absolute_error\n"
          ]
        },
        {
          "output_type": "stream",
          "name": "stdout",
          "text": [
            "\n",
            "Epoch 37: mean_absolute_error improved from 0.01867 to 0.01845, saving model to mymodel.h5\n",
            "29/29 [==============================] - 1s 25ms/step - loss: 5.8235e-04 - mean_absolute_error: 0.0184 - val_loss: 0.0034 - val_mean_absolute_error: 0.0392\n",
            "Epoch 38/50\n",
            "28/29 [===========================>..] - ETA: 0s - loss: 6.0172e-04 - mean_absolute_error: 0.0185"
          ]
        },
        {
          "output_type": "stream",
          "name": "stderr",
          "text": [
            "WARNING:tensorflow:Early stopping conditioned on metric `mae` which is not available. Available metrics are: loss,mean_absolute_error,val_loss,val_mean_absolute_error\n"
          ]
        },
        {
          "output_type": "stream",
          "name": "stdout",
          "text": [
            "\n",
            "Epoch 38: mean_absolute_error improved from 0.01845 to 0.01839, saving model to mymodel.h5\n",
            "29/29 [==============================] - 1s 25ms/step - loss: 5.9697e-04 - mean_absolute_error: 0.0184 - val_loss: 0.0037 - val_mean_absolute_error: 0.0430\n",
            "Epoch 39/50\n",
            "28/29 [===========================>..] - ETA: 0s - loss: 5.4483e-04 - mean_absolute_error: 0.0177"
          ]
        },
        {
          "output_type": "stream",
          "name": "stderr",
          "text": [
            "WARNING:tensorflow:Early stopping conditioned on metric `mae` which is not available. Available metrics are: loss,mean_absolute_error,val_loss,val_mean_absolute_error\n"
          ]
        },
        {
          "output_type": "stream",
          "name": "stdout",
          "text": [
            "\n",
            "Epoch 39: mean_absolute_error improved from 0.01839 to 0.01776, saving model to mymodel.h5\n",
            "29/29 [==============================] - 1s 25ms/step - loss: 5.4486e-04 - mean_absolute_error: 0.0178 - val_loss: 0.0044 - val_mean_absolute_error: 0.0441\n",
            "Epoch 40/50\n",
            "28/29 [===========================>..] - ETA: 0s - loss: 6.7735e-04 - mean_absolute_error: 0.0203"
          ]
        },
        {
          "output_type": "stream",
          "name": "stderr",
          "text": [
            "WARNING:tensorflow:Early stopping conditioned on metric `mae` which is not available. Available metrics are: loss,mean_absolute_error,val_loss,val_mean_absolute_error\n"
          ]
        },
        {
          "output_type": "stream",
          "name": "stdout",
          "text": [
            "\n",
            "Epoch 40: mean_absolute_error did not improve from 0.01776\n",
            "29/29 [==============================] - 1s 23ms/step - loss: 6.7318e-04 - mean_absolute_error: 0.0202 - val_loss: 0.0033 - val_mean_absolute_error: 0.0386\n",
            "Epoch 41/50\n",
            "29/29 [==============================] - ETA: 0s - loss: 6.4640e-04 - mean_absolute_error: 0.0197"
          ]
        },
        {
          "output_type": "stream",
          "name": "stderr",
          "text": [
            "WARNING:tensorflow:Early stopping conditioned on metric `mae` which is not available. Available metrics are: loss,mean_absolute_error,val_loss,val_mean_absolute_error\n"
          ]
        },
        {
          "output_type": "stream",
          "name": "stdout",
          "text": [
            "\n",
            "Epoch 41: mean_absolute_error did not improve from 0.01776\n",
            "29/29 [==============================] - 1s 24ms/step - loss: 6.4640e-04 - mean_absolute_error: 0.0197 - val_loss: 0.0034 - val_mean_absolute_error: 0.0390\n",
            "Epoch 42/50\n",
            "27/29 [==========================>...] - ETA: 0s - loss: 5.2765e-04 - mean_absolute_error: 0.0174"
          ]
        },
        {
          "output_type": "stream",
          "name": "stderr",
          "text": [
            "WARNING:tensorflow:Early stopping conditioned on metric `mae` which is not available. Available metrics are: loss,mean_absolute_error,val_loss,val_mean_absolute_error\n"
          ]
        },
        {
          "output_type": "stream",
          "name": "stdout",
          "text": [
            "\n",
            "Epoch 42: mean_absolute_error improved from 0.01776 to 0.01752, saving model to mymodel.h5\n",
            "29/29 [==============================] - 1s 26ms/step - loss: 5.3638e-04 - mean_absolute_error: 0.0175 - val_loss: 0.0028 - val_mean_absolute_error: 0.0333\n",
            "Epoch 43/50\n",
            "28/29 [===========================>..] - ETA: 0s - loss: 5.1558e-04 - mean_absolute_error: 0.0172"
          ]
        },
        {
          "output_type": "stream",
          "name": "stderr",
          "text": [
            "WARNING:tensorflow:Early stopping conditioned on metric `mae` which is not available. Available metrics are: loss,mean_absolute_error,val_loss,val_mean_absolute_error\n"
          ]
        },
        {
          "output_type": "stream",
          "name": "stdout",
          "text": [
            "\n",
            "Epoch 43: mean_absolute_error improved from 0.01752 to 0.01729, saving model to mymodel.h5\n",
            "29/29 [==============================] - 1s 25ms/step - loss: 5.1954e-04 - mean_absolute_error: 0.0173 - val_loss: 0.0034 - val_mean_absolute_error: 0.0420\n",
            "Epoch 44/50\n",
            "28/29 [===========================>..] - ETA: 0s - loss: 5.3749e-04 - mean_absolute_error: 0.0176"
          ]
        },
        {
          "output_type": "stream",
          "name": "stderr",
          "text": [
            "WARNING:tensorflow:Early stopping conditioned on metric `mae` which is not available. Available metrics are: loss,mean_absolute_error,val_loss,val_mean_absolute_error\n"
          ]
        },
        {
          "output_type": "stream",
          "name": "stdout",
          "text": [
            "\n",
            "Epoch 44: mean_absolute_error did not improve from 0.01729\n",
            "29/29 [==============================] - 1s 24ms/step - loss: 5.3634e-04 - mean_absolute_error: 0.0176 - val_loss: 0.0032 - val_mean_absolute_error: 0.0409\n",
            "Epoch 45/50\n",
            "27/29 [==========================>...] - ETA: 0s - loss: 7.0182e-04 - mean_absolute_error: 0.0203"
          ]
        },
        {
          "output_type": "stream",
          "name": "stderr",
          "text": [
            "WARNING:tensorflow:Early stopping conditioned on metric `mae` which is not available. Available metrics are: loss,mean_absolute_error,val_loss,val_mean_absolute_error\n"
          ]
        },
        {
          "output_type": "stream",
          "name": "stdout",
          "text": [
            "\n",
            "Epoch 45: mean_absolute_error did not improve from 0.01729\n",
            "29/29 [==============================] - 1s 25ms/step - loss: 6.9676e-04 - mean_absolute_error: 0.0202 - val_loss: 0.0051 - val_mean_absolute_error: 0.0554\n",
            "Epoch 46/50\n",
            "28/29 [===========================>..] - ETA: 0s - loss: 5.7466e-04 - mean_absolute_error: 0.0185"
          ]
        },
        {
          "output_type": "stream",
          "name": "stderr",
          "text": [
            "WARNING:tensorflow:Early stopping conditioned on metric `mae` which is not available. Available metrics are: loss,mean_absolute_error,val_loss,val_mean_absolute_error\n"
          ]
        },
        {
          "output_type": "stream",
          "name": "stdout",
          "text": [
            "\n",
            "Epoch 46: mean_absolute_error did not improve from 0.01729\n",
            "29/29 [==============================] - 1s 23ms/step - loss: 5.6924e-04 - mean_absolute_error: 0.0184 - val_loss: 0.0024 - val_mean_absolute_error: 0.0330\n",
            "Epoch 47/50\n",
            "27/29 [==========================>...] - ETA: 0s - loss: 5.9058e-04 - mean_absolute_error: 0.0185"
          ]
        },
        {
          "output_type": "stream",
          "name": "stderr",
          "text": [
            "WARNING:tensorflow:Early stopping conditioned on metric `mae` which is not available. Available metrics are: loss,mean_absolute_error,val_loss,val_mean_absolute_error\n"
          ]
        },
        {
          "output_type": "stream",
          "name": "stdout",
          "text": [
            "\n",
            "Epoch 47: mean_absolute_error did not improve from 0.01729\n",
            "29/29 [==============================] - 1s 24ms/step - loss: 5.8619e-04 - mean_absolute_error: 0.0184 - val_loss: 0.0041 - val_mean_absolute_error: 0.0489\n",
            "Epoch 48/50\n",
            "28/29 [===========================>..] - ETA: 0s - loss: 5.4272e-04 - mean_absolute_error: 0.0180"
          ]
        },
        {
          "output_type": "stream",
          "name": "stderr",
          "text": [
            "WARNING:tensorflow:Early stopping conditioned on metric `mae` which is not available. Available metrics are: loss,mean_absolute_error,val_loss,val_mean_absolute_error\n"
          ]
        },
        {
          "output_type": "stream",
          "name": "stdout",
          "text": [
            "\n",
            "Epoch 48: mean_absolute_error did not improve from 0.01729\n",
            "29/29 [==============================] - 1s 24ms/step - loss: 5.4593e-04 - mean_absolute_error: 0.0180 - val_loss: 0.0026 - val_mean_absolute_error: 0.0375\n",
            "Epoch 49/50\n",
            "28/29 [===========================>..] - ETA: 0s - loss: 5.2222e-04 - mean_absolute_error: 0.0174"
          ]
        },
        {
          "output_type": "stream",
          "name": "stderr",
          "text": [
            "WARNING:tensorflow:Early stopping conditioned on metric `mae` which is not available. Available metrics are: loss,mean_absolute_error,val_loss,val_mean_absolute_error\n"
          ]
        },
        {
          "output_type": "stream",
          "name": "stdout",
          "text": [
            "\n",
            "Epoch 49: mean_absolute_error did not improve from 0.01729\n",
            "29/29 [==============================] - 1s 23ms/step - loss: 5.2084e-04 - mean_absolute_error: 0.0174 - val_loss: 0.0047 - val_mean_absolute_error: 0.0518\n",
            "Epoch 50/50\n",
            "28/29 [===========================>..] - ETA: 0s - loss: 4.9109e-04 - mean_absolute_error: 0.0168"
          ]
        },
        {
          "output_type": "stream",
          "name": "stderr",
          "text": [
            "WARNING:tensorflow:Early stopping conditioned on metric `mae` which is not available. Available metrics are: loss,mean_absolute_error,val_loss,val_mean_absolute_error\n"
          ]
        },
        {
          "output_type": "stream",
          "name": "stdout",
          "text": [
            "\n",
            "Epoch 50: mean_absolute_error improved from 0.01729 to 0.01682, saving model to mymodel.h5\n",
            "29/29 [==============================] - 1s 25ms/step - loss: 4.9295e-04 - mean_absolute_error: 0.0168 - val_loss: 0.0027 - val_mean_absolute_error: 0.0400\n"
          ]
        },
        {
          "output_type": "execute_result",
          "data": {
            "text/plain": [
              "<keras.callbacks.History at 0x7f1cc30b7130>"
            ]
          },
          "metadata": {},
          "execution_count": 34
        }
      ]
    }
  ]
}