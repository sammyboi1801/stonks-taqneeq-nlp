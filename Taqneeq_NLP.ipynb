{
  "nbformat": 4,
  "nbformat_minor": 0,
  "metadata": {
    "colab": {
      "provenance": []
    },
    "kernelspec": {
      "name": "python3",
      "display_name": "Python 3"
    },
    "language_info": {
      "name": "python"
    }
  },
  "cells": [
    {
      "cell_type": "code",
      "source": [
        "!pip install transformers"
      ],
      "metadata": {
        "colab": {
          "base_uri": "https://localhost:8080/"
        },
        "id": "g6n9p063Vmj-",
        "outputId": "29ba41fe-dcf3-4a33-f293-107a70f6861e"
      },
      "execution_count": 1,
      "outputs": [
        {
          "output_type": "stream",
          "name": "stdout",
          "text": [
            "Looking in indexes: https://pypi.org/simple, https://us-python.pkg.dev/colab-wheels/public/simple/\n",
            "Requirement already satisfied: transformers in /usr/local/lib/python3.8/dist-packages (4.25.1)\n",
            "Requirement already satisfied: tokenizers!=0.11.3,<0.14,>=0.11.1 in /usr/local/lib/python3.8/dist-packages (from transformers) (0.13.2)\n",
            "Requirement already satisfied: huggingface-hub<1.0,>=0.10.0 in /usr/local/lib/python3.8/dist-packages (from transformers) (0.11.1)\n",
            "Requirement already satisfied: requests in /usr/local/lib/python3.8/dist-packages (from transformers) (2.25.1)\n",
            "Requirement already satisfied: pyyaml>=5.1 in /usr/local/lib/python3.8/dist-packages (from transformers) (6.0)\n",
            "Requirement already satisfied: filelock in /usr/local/lib/python3.8/dist-packages (from transformers) (3.9.0)\n",
            "Requirement already satisfied: regex!=2019.12.17 in /usr/local/lib/python3.8/dist-packages (from transformers) (2022.6.2)\n",
            "Requirement already satisfied: packaging>=20.0 in /usr/local/lib/python3.8/dist-packages (from transformers) (21.3)\n",
            "Requirement already satisfied: tqdm>=4.27 in /usr/local/lib/python3.8/dist-packages (from transformers) (4.64.1)\n",
            "Requirement already satisfied: numpy>=1.17 in /usr/local/lib/python3.8/dist-packages (from transformers) (1.21.6)\n",
            "Requirement already satisfied: typing-extensions>=3.7.4.3 in /usr/local/lib/python3.8/dist-packages (from huggingface-hub<1.0,>=0.10.0->transformers) (4.4.0)\n",
            "Requirement already satisfied: pyparsing!=3.0.5,>=2.0.2 in /usr/local/lib/python3.8/dist-packages (from packaging>=20.0->transformers) (3.0.9)\n",
            "Requirement already satisfied: chardet<5,>=3.0.2 in /usr/local/lib/python3.8/dist-packages (from requests->transformers) (4.0.0)\n",
            "Requirement already satisfied: urllib3<1.27,>=1.21.1 in /usr/local/lib/python3.8/dist-packages (from requests->transformers) (1.24.3)\n",
            "Requirement already satisfied: certifi>=2017.4.17 in /usr/local/lib/python3.8/dist-packages (from requests->transformers) (2022.12.7)\n",
            "Requirement already satisfied: idna<3,>=2.5 in /usr/local/lib/python3.8/dist-packages (from requests->transformers) (2.10)\n"
          ]
        }
      ]
    },
    {
      "cell_type": "code",
      "execution_count": 2,
      "metadata": {
        "colab": {
          "base_uri": "https://localhost:8080/"
        },
        "id": "aYDKuD1JVbqx",
        "outputId": "43a4885e-afdb-4e08-95ab-cb56691a9883"
      },
      "outputs": [
        {
          "output_type": "stream",
          "name": "stderr",
          "text": [
            "Some weights of the PyTorch model were not used when initializing the TF 2.0 model TFRobertaForSequenceClassification: ['roberta.embeddings.position_ids']\n",
            "- This IS expected if you are initializing TFRobertaForSequenceClassification from a PyTorch model trained on another task or with another architecture (e.g. initializing a TFBertForSequenceClassification model from a BertForPreTraining model).\n",
            "- This IS NOT expected if you are initializing TFRobertaForSequenceClassification from a PyTorch model that you expect to be exactly identical (e.g. initializing a TFBertForSequenceClassification model from a BertForSequenceClassification model).\n",
            "All the weights of TFRobertaForSequenceClassification were initialized from the PyTorch model.\n",
            "If your task is similar to the task the model of the checkpoint was trained on, you can already use TFRobertaForSequenceClassification for predictions without further training.\n"
          ]
        }
      ],
      "source": [
        "from transformers import AutoTokenizer, TFAutoModelForSequenceClassification\n",
        "\n",
        "tokenizer = AutoTokenizer.from_pretrained(\"mrm8488/distilroberta-finetuned-financial-news-sentiment-analysis\")\n",
        "model = TFAutoModelForSequenceClassification.from_pretrained(\"mrm8488/distilroberta-finetuned-financial-news-sentiment-analysis\",from_pt=True)"
      ]
    },
    {
      "cell_type": "code",
      "source": [
        "from transformers import pipeline\n",
        "\n",
        "classifier = pipeline(task=\"text-classification\", model=model, tokenizer=tokenizer)"
      ],
      "metadata": {
        "id": "Ym-2TemdVgDH"
      },
      "execution_count": 3,
      "outputs": []
    },
    {
      "cell_type": "code",
      "source": [
        "classifier(\"Tata Steel's Dutch arm signs MOU to supply Ford with green steel.\")"
      ],
      "metadata": {
        "colab": {
          "base_uri": "https://localhost:8080/"
        },
        "id": "s6iCfyehWNY0",
        "outputId": "438a3fef-f717-4efa-af3c-9173f6e14257"
      },
      "execution_count": 4,
      "outputs": [
        {
          "output_type": "execute_result",
          "data": {
            "text/plain": [
              "[{'label': 'neutral', 'score': 0.9998267292976379}]"
            ]
          },
          "metadata": {},
          "execution_count": 4
        }
      ]
    },
    {
      "cell_type": "code",
      "source": [
        "pip install yfinance"
      ],
      "metadata": {
        "colab": {
          "base_uri": "https://localhost:8080/",
          "height": 970
        },
        "id": "AgSq4w7W2JzA",
        "outputId": "932ab771-f90d-4681-9881-239cf4b50f5c"
      },
      "execution_count": 3,
      "outputs": [
        {
          "output_type": "stream",
          "name": "stdout",
          "text": [
            "Looking in indexes: https://pypi.org/simple, https://us-python.pkg.dev/colab-wheels/public/simple/\n",
            "Collecting yfinance\n",
            "  Downloading yfinance-0.2.4-py2.py3-none-any.whl (51 kB)\n",
            "\u001b[2K     \u001b[90m━━━━━━━━━━━━━━━━━━━━━━━━━━━━━━━━━━━━━━━━\u001b[0m \u001b[32m51.4/51.4 KB\u001b[0m \u001b[31m3.2 MB/s\u001b[0m eta \u001b[36m0:00:00\u001b[0m\n",
            "\u001b[?25hCollecting requests>=2.26\n",
            "  Downloading requests-2.28.2-py3-none-any.whl (62 kB)\n",
            "\u001b[2K     \u001b[90m━━━━━━━━━━━━━━━━━━━━━━━━━━━━━━━━━━━━━━━━\u001b[0m \u001b[32m62.8/62.8 KB\u001b[0m \u001b[31m3.8 MB/s\u001b[0m eta \u001b[36m0:00:00\u001b[0m\n",
            "\u001b[?25hCollecting frozendict>=2.3.4\n",
            "  Downloading frozendict-2.3.4-cp38-cp38-manylinux_2_17_x86_64.manylinux2014_x86_64.whl (110 kB)\n",
            "\u001b[2K     \u001b[90m━━━━━━━━━━━━━━━━━━━━━━━━━━━━━━━━━━━━━━\u001b[0m \u001b[32m111.0/111.0 KB\u001b[0m \u001b[31m11.8 MB/s\u001b[0m eta \u001b[36m0:00:00\u001b[0m\n",
            "\u001b[?25hCollecting html5lib>=1.1\n",
            "  Downloading html5lib-1.1-py2.py3-none-any.whl (112 kB)\n",
            "\u001b[2K     \u001b[90m━━━━━━━━━━━━━━━━━━━━━━━━━━━━━━━━━━━━━━\u001b[0m \u001b[32m112.2/112.2 KB\u001b[0m \u001b[31m13.4 MB/s\u001b[0m eta \u001b[36m0:00:00\u001b[0m\n",
            "\u001b[?25hRequirement already satisfied: appdirs>=1.4.4 in /usr/local/lib/python3.8/dist-packages (from yfinance) (1.4.4)\n",
            "Requirement already satisfied: lxml>=4.9.1 in /usr/local/lib/python3.8/dist-packages (from yfinance) (4.9.2)\n",
            "Requirement already satisfied: pytz>=2022.5 in /usr/local/lib/python3.8/dist-packages (from yfinance) (2022.7)\n",
            "Requirement already satisfied: multitasking>=0.0.7 in /usr/local/lib/python3.8/dist-packages (from yfinance) (0.0.11)\n",
            "Collecting beautifulsoup4>=4.11.1\n",
            "  Downloading beautifulsoup4-4.11.1-py3-none-any.whl (128 kB)\n",
            "\u001b[2K     \u001b[90m━━━━━━━━━━━━━━━━━━━━━━━━━━━━━━━━━━━━━━\u001b[0m \u001b[32m128.2/128.2 KB\u001b[0m \u001b[31m14.9 MB/s\u001b[0m eta \u001b[36m0:00:00\u001b[0m\n",
            "\u001b[?25hCollecting cryptography>=3.3.2\n",
            "  Downloading cryptography-39.0.0-cp36-abi3-manylinux_2_28_x86_64.whl (4.2 MB)\n",
            "\u001b[2K     \u001b[90m━━━━━━━━━━━━━━━━━━━━━━━━━━━━━━━━━━━━━━━━\u001b[0m \u001b[32m4.2/4.2 MB\u001b[0m \u001b[31m57.2 MB/s\u001b[0m eta \u001b[36m0:00:00\u001b[0m\n",
            "\u001b[?25hRequirement already satisfied: pandas>=1.3.0 in /usr/local/lib/python3.8/dist-packages (from yfinance) (1.3.5)\n",
            "Requirement already satisfied: numpy>=1.16.5 in /usr/local/lib/python3.8/dist-packages (from yfinance) (1.21.6)\n",
            "Collecting soupsieve>1.2\n",
            "  Downloading soupsieve-2.3.2.post1-py3-none-any.whl (37 kB)\n",
            "Requirement already satisfied: cffi>=1.12 in /usr/local/lib/python3.8/dist-packages (from cryptography>=3.3.2->yfinance) (1.15.1)\n",
            "Requirement already satisfied: six>=1.9 in /usr/local/lib/python3.8/dist-packages (from html5lib>=1.1->yfinance) (1.15.0)\n",
            "Requirement already satisfied: webencodings in /usr/local/lib/python3.8/dist-packages (from html5lib>=1.1->yfinance) (0.5.1)\n",
            "Requirement already satisfied: python-dateutil>=2.7.3 in /usr/local/lib/python3.8/dist-packages (from pandas>=1.3.0->yfinance) (2.8.2)\n",
            "Requirement already satisfied: charset-normalizer<4,>=2 in /usr/local/lib/python3.8/dist-packages (from requests>=2.26->yfinance) (2.1.1)\n",
            "Requirement already satisfied: idna<4,>=2.5 in /usr/local/lib/python3.8/dist-packages (from requests>=2.26->yfinance) (2.10)\n",
            "Requirement already satisfied: certifi>=2017.4.17 in /usr/local/lib/python3.8/dist-packages (from requests>=2.26->yfinance) (2022.12.7)\n",
            "Requirement already satisfied: urllib3<1.27,>=1.21.1 in /usr/local/lib/python3.8/dist-packages (from requests>=2.26->yfinance) (1.24.3)\n",
            "Requirement already satisfied: pycparser in /usr/local/lib/python3.8/dist-packages (from cffi>=1.12->cryptography>=3.3.2->yfinance) (2.21)\n",
            "Installing collected packages: soupsieve, requests, html5lib, frozendict, cryptography, beautifulsoup4, yfinance\n",
            "  Attempting uninstall: requests\n",
            "    Found existing installation: requests 2.25.1\n",
            "    Uninstalling requests-2.25.1:\n",
            "      Successfully uninstalled requests-2.25.1\n",
            "  Attempting uninstall: html5lib\n",
            "    Found existing installation: html5lib 1.0.1\n",
            "    Uninstalling html5lib-1.0.1:\n",
            "      Successfully uninstalled html5lib-1.0.1\n",
            "  Attempting uninstall: beautifulsoup4\n",
            "    Found existing installation: beautifulsoup4 4.6.3\n",
            "    Uninstalling beautifulsoup4-4.6.3:\n",
            "      Successfully uninstalled beautifulsoup4-4.6.3\n",
            "Successfully installed beautifulsoup4-4.11.1 cryptography-39.0.0 frozendict-2.3.4 html5lib-1.1 requests-2.28.2 soupsieve-2.3.2.post1 yfinance-0.2.4\n"
          ]
        },
        {
          "output_type": "display_data",
          "data": {
            "application/vnd.colab-display-data+json": {
              "pip_warning": {
                "packages": [
                  "requests"
                ]
              }
            }
          },
          "metadata": {}
        }
      ]
    },
    {
      "cell_type": "code",
      "source": [
        "pip install streamlit"
      ],
      "metadata": {
        "colab": {
          "base_uri": "https://localhost:8080/"
        },
        "id": "9hi7mDhu2J6l",
        "outputId": "61d175a8-6971-422b-baef-7467901f4518"
      },
      "execution_count": 4,
      "outputs": [
        {
          "output_type": "stream",
          "name": "stdout",
          "text": [
            "Looking in indexes: https://pypi.org/simple, https://us-python.pkg.dev/colab-wheels/public/simple/\n",
            "Collecting streamlit\n",
            "  Downloading streamlit-1.17.0-py2.py3-none-any.whl (9.3 MB)\n",
            "\u001b[2K     \u001b[90m━━━━━━━━━━━━━━━━━━━━━━━━━━━━━━━━━━━━━━━━\u001b[0m \u001b[32m9.3/9.3 MB\u001b[0m \u001b[31m57.1 MB/s\u001b[0m eta \u001b[36m0:00:00\u001b[0m\n",
            "\u001b[?25hRequirement already satisfied: altair>=3.2.0 in /usr/local/lib/python3.8/dist-packages (from streamlit) (4.2.0)\n",
            "Requirement already satisfied: packaging>=14.1 in /usr/local/lib/python3.8/dist-packages (from streamlit) (21.3)\n",
            "Requirement already satisfied: tornado>=5.0 in /usr/local/lib/python3.8/dist-packages (from streamlit) (6.0.4)\n",
            "Requirement already satisfied: python-dateutil in /usr/local/lib/python3.8/dist-packages (from streamlit) (2.8.2)\n",
            "Requirement already satisfied: requests>=2.4 in /usr/local/lib/python3.8/dist-packages (from streamlit) (2.28.2)\n",
            "Requirement already satisfied: pandas>=0.21.0 in /usr/local/lib/python3.8/dist-packages (from streamlit) (1.3.5)\n",
            "Requirement already satisfied: typing-extensions>=3.10.0.0 in /usr/local/lib/python3.8/dist-packages (from streamlit) (4.4.0)\n",
            "Requirement already satisfied: pyarrow>=4.0 in /usr/local/lib/python3.8/dist-packages (from streamlit) (9.0.0)\n",
            "Requirement already satisfied: click>=7.0 in /usr/local/lib/python3.8/dist-packages (from streamlit) (7.1.2)\n",
            "Requirement already satisfied: cachetools>=4.0 in /usr/local/lib/python3.8/dist-packages (from streamlit) (5.2.1)\n",
            "Requirement already satisfied: numpy in /usr/local/lib/python3.8/dist-packages (from streamlit) (1.21.6)\n",
            "Collecting validators>=0.2\n",
            "  Downloading validators-0.20.0.tar.gz (30 kB)\n",
            "  Preparing metadata (setup.py) ... \u001b[?25l\u001b[?25hdone\n",
            "Requirement already satisfied: pillow>=6.2.0 in /usr/local/lib/python3.8/dist-packages (from streamlit) (7.1.2)\n",
            "Collecting pympler>=0.9\n",
            "  Downloading Pympler-1.0.1-py3-none-any.whl (164 kB)\n",
            "\u001b[2K     \u001b[90m━━━━━━━━━━━━━━━━━━━━━━━━━━━━━━━━━━━━━━\u001b[0m \u001b[32m164.8/164.8 KB\u001b[0m \u001b[31m21.1 MB/s\u001b[0m eta \u001b[36m0:00:00\u001b[0m\n",
            "\u001b[?25hRequirement already satisfied: importlib-metadata>=1.4 in /usr/local/lib/python3.8/dist-packages (from streamlit) (6.0.0)\n",
            "Collecting semver\n",
            "  Downloading semver-2.13.0-py2.py3-none-any.whl (12 kB)\n",
            "Collecting watchdog\n",
            "  Downloading watchdog-2.2.1-py3-none-manylinux2014_x86_64.whl (78 kB)\n",
            "\u001b[2K     \u001b[90m━━━━━━━━━━━━━━━━━━━━━━━━━━━━━━━━━━━━━━━━\u001b[0m \u001b[32m79.0/79.0 KB\u001b[0m \u001b[31m9.5 MB/s\u001b[0m eta \u001b[36m0:00:00\u001b[0m\n",
            "\u001b[?25hRequirement already satisfied: protobuf<4,>=3.12 in /usr/local/lib/python3.8/dist-packages (from streamlit) (3.19.6)\n",
            "Requirement already satisfied: toml in /usr/local/lib/python3.8/dist-packages (from streamlit) (0.10.2)\n",
            "Collecting pydeck>=0.1.dev5\n",
            "  Downloading pydeck-0.8.0-py2.py3-none-any.whl (4.7 MB)\n",
            "\u001b[2K     \u001b[90m━━━━━━━━━━━━━━━━━━━━━━━━━━━━━━━━━━━━━━━━\u001b[0m \u001b[32m4.7/4.7 MB\u001b[0m \u001b[31m81.5 MB/s\u001b[0m eta \u001b[36m0:00:00\u001b[0m\n",
            "\u001b[?25hRequirement already satisfied: tzlocal>=1.1 in /usr/local/lib/python3.8/dist-packages (from streamlit) (1.5.1)\n",
            "Collecting rich>=10.11.0\n",
            "  Downloading rich-13.2.0-py3-none-any.whl (238 kB)\n",
            "\u001b[2K     \u001b[90m━━━━━━━━━━━━━━━━━━━━━━━━━━━━━━━━━━━━━━\u001b[0m \u001b[32m238.9/238.9 KB\u001b[0m \u001b[31m21.9 MB/s\u001b[0m eta \u001b[36m0:00:00\u001b[0m\n",
            "\u001b[?25hCollecting gitpython!=3.1.19\n",
            "  Downloading GitPython-3.1.30-py3-none-any.whl (184 kB)\n",
            "\u001b[2K     \u001b[90m━━━━━━━━━━━━━━━━━━━━━━━━━━━━━━━━━━━━━━\u001b[0m \u001b[32m184.0/184.0 KB\u001b[0m \u001b[31m20.4 MB/s\u001b[0m eta \u001b[36m0:00:00\u001b[0m\n",
            "\u001b[?25hCollecting blinker>=1.0.0\n",
            "  Downloading blinker-1.5-py2.py3-none-any.whl (12 kB)\n",
            "Requirement already satisfied: entrypoints in /usr/local/lib/python3.8/dist-packages (from altair>=3.2.0->streamlit) (0.4)\n",
            "Requirement already satisfied: jinja2 in /usr/local/lib/python3.8/dist-packages (from altair>=3.2.0->streamlit) (2.11.3)\n",
            "Requirement already satisfied: jsonschema>=3.0 in /usr/local/lib/python3.8/dist-packages (from altair>=3.2.0->streamlit) (4.3.3)\n",
            "Requirement already satisfied: toolz in /usr/local/lib/python3.8/dist-packages (from altair>=3.2.0->streamlit) (0.12.0)\n",
            "Collecting gitdb<5,>=4.0.1\n",
            "  Downloading gitdb-4.0.10-py3-none-any.whl (62 kB)\n",
            "\u001b[2K     \u001b[90m━━━━━━━━━━━━━━━━━━━━━━━━━━━━━━━━━━━━━━━━\u001b[0m \u001b[32m62.7/62.7 KB\u001b[0m \u001b[31m7.2 MB/s\u001b[0m eta \u001b[36m0:00:00\u001b[0m\n",
            "\u001b[?25hRequirement already satisfied: zipp>=0.5 in /usr/local/lib/python3.8/dist-packages (from importlib-metadata>=1.4->streamlit) (3.11.0)\n",
            "Requirement already satisfied: pyparsing!=3.0.5,>=2.0.2 in /usr/local/lib/python3.8/dist-packages (from packaging>=14.1->streamlit) (3.0.9)\n",
            "Requirement already satisfied: pytz>=2017.3 in /usr/local/lib/python3.8/dist-packages (from pandas>=0.21.0->streamlit) (2022.7)\n",
            "Requirement already satisfied: six>=1.5 in /usr/local/lib/python3.8/dist-packages (from python-dateutil->streamlit) (1.15.0)\n",
            "Requirement already satisfied: charset-normalizer<4,>=2 in /usr/local/lib/python3.8/dist-packages (from requests>=2.4->streamlit) (2.1.1)\n",
            "Requirement already satisfied: urllib3<1.27,>=1.21.1 in /usr/local/lib/python3.8/dist-packages (from requests>=2.4->streamlit) (1.24.3)\n",
            "Requirement already satisfied: certifi>=2017.4.17 in /usr/local/lib/python3.8/dist-packages (from requests>=2.4->streamlit) (2022.12.7)\n",
            "Requirement already satisfied: idna<4,>=2.5 in /usr/local/lib/python3.8/dist-packages (from requests>=2.4->streamlit) (2.10)\n",
            "Collecting markdown-it-py<3.0.0,>=2.1.0\n",
            "  Downloading markdown_it_py-2.1.0-py3-none-any.whl (84 kB)\n",
            "\u001b[2K     \u001b[90m━━━━━━━━━━━━━━━━━━━━━━━━━━━━━━━━━━━━━━━━\u001b[0m \u001b[32m84.5/84.5 KB\u001b[0m \u001b[31m9.6 MB/s\u001b[0m eta \u001b[36m0:00:00\u001b[0m\n",
            "\u001b[?25hRequirement already satisfied: pygments<3.0.0,>=2.6.0 in /usr/local/lib/python3.8/dist-packages (from rich>=10.11.0->streamlit) (2.6.1)\n",
            "Requirement already satisfied: decorator>=3.4.0 in /usr/local/lib/python3.8/dist-packages (from validators>=0.2->streamlit) (4.4.2)\n",
            "Collecting smmap<6,>=3.0.1\n",
            "  Downloading smmap-5.0.0-py3-none-any.whl (24 kB)\n",
            "Requirement already satisfied: MarkupSafe>=0.23 in /usr/local/lib/python3.8/dist-packages (from jinja2->altair>=3.2.0->streamlit) (2.0.1)\n",
            "Requirement already satisfied: attrs>=17.4.0 in /usr/local/lib/python3.8/dist-packages (from jsonschema>=3.0->altair>=3.2.0->streamlit) (22.2.0)\n",
            "Requirement already satisfied: pyrsistent!=0.17.0,!=0.17.1,!=0.17.2,>=0.14.0 in /usr/local/lib/python3.8/dist-packages (from jsonschema>=3.0->altair>=3.2.0->streamlit) (0.19.3)\n",
            "Requirement already satisfied: importlib-resources>=1.4.0 in /usr/local/lib/python3.8/dist-packages (from jsonschema>=3.0->altair>=3.2.0->streamlit) (5.10.2)\n",
            "Collecting mdurl~=0.1\n",
            "  Downloading mdurl-0.1.2-py3-none-any.whl (10.0 kB)\n",
            "Building wheels for collected packages: validators\n",
            "  Building wheel for validators (setup.py) ... \u001b[?25l\u001b[?25hdone\n",
            "  Created wheel for validators: filename=validators-0.20.0-py3-none-any.whl size=19581 sha256=dd627cd958d74ed55d2ff138330efae4aa5a36c2a904df45cce1d324d1a8611f\n",
            "  Stored in directory: /root/.cache/pip/wheels/19/09/72/3eb74d236bb48bd0f3c6c3c83e4e0c5bbfcbcad7c6c3539db8\n",
            "Successfully built validators\n",
            "Installing collected packages: watchdog, validators, smmap, semver, pympler, mdurl, blinker, pydeck, markdown-it-py, gitdb, rich, gitpython, streamlit\n",
            "Successfully installed blinker-1.5 gitdb-4.0.10 gitpython-3.1.30 markdown-it-py-2.1.0 mdurl-0.1.2 pydeck-0.8.0 pympler-1.0.1 rich-13.2.0 semver-2.13.0 smmap-5.0.0 streamlit-1.17.0 validators-0.20.0 watchdog-2.2.1\n"
          ]
        }
      ]
    },
    {
      "cell_type": "code",
      "source": [],
      "metadata": {
        "id": "T7m5J1dm2J9t"
      },
      "execution_count": null,
      "outputs": []
    },
    {
      "cell_type": "code",
      "source": [
        "import pandas_datareader as pdr\n",
        "\n",
        "import yfinance as yf\n",
        "import streamlit as st\n",
        "import pandas as pd\n",
        "import pandas as pd\n",
        "import requests\n",
        "#from yahoo_fin import news\n",
        "import json\n",
        "\n",
        "\n",
        "def getTicker(company_name):\n",
        "    yfinance = \"https://query2.finance.yahoo.com/v1/finance/search\"\n",
        "    user_agent = 'Mozilla/5.0 (Windows NT 10.0; Win64; x64) AppleWebKit/537.36 (KHTML, like Gecko) Chrome/108.0.0.0 Safari/537.36'\n",
        "    params = {\"q\": company_name, \"quotes_count\": 1, \"country\": \"United States\"}\n",
        "\n",
        "    res = requests.get(url=yfinance, params=params, headers={'User-Agent': user_agent})\n",
        "    data = res.json()\n",
        "\n",
        "    company_code = data['quotes'][0]['symbol']\n",
        "    return company_code\n"
      ],
      "metadata": {
        "id": "M2wLtvp_WvYz"
      },
      "execution_count": 5,
      "outputs": []
    },
    {
      "cell_type": "code",
      "source": [
        "getTicker('TESLA')"
      ],
      "metadata": {
        "colab": {
          "base_uri": "https://localhost:8080/",
          "height": 36
        },
        "id": "pCTDWLUK2H7g",
        "outputId": "7d0c79ba-11ca-4e3a-d612-cb2e8430ba20"
      },
      "execution_count": 8,
      "outputs": [
        {
          "output_type": "execute_result",
          "data": {
            "text/plain": [
              "'TSLA'"
            ],
            "application/vnd.google.colaboratory.intrinsic+json": {
              "type": "string"
            }
          },
          "metadata": {},
          "execution_count": 8
        }
      ]
    },
    {
      "cell_type": "code",
      "source": [],
      "metadata": {
        "id": "KWIt1nxQ2H-V"
      },
      "execution_count": null,
      "outputs": []
    },
    {
      "cell_type": "code",
      "source": [
        "classifier([\"Crypto Markets Today: Bitcoin Surges Above $22K, Genesis Has Over $5B in Liabilities\",\"Tata Steel's Dutch arm signs MOU to supply Ford with green steel.\"])"
      ],
      "metadata": {
        "colab": {
          "base_uri": "https://localhost:8080/"
        },
        "id": "cQl4zgdNWUNg",
        "outputId": "a19fff89-2ecf-4f0e-a65f-2153c07ac2b1"
      },
      "execution_count": 5,
      "outputs": [
        {
          "output_type": "execute_result",
          "data": {
            "text/plain": [
              "[{'label': 'positive', 'score': 0.9968549013137817},\n",
              " {'label': 'neutral', 'score': 0.9998267292976379}]"
            ]
          },
          "metadata": {},
          "execution_count": 5
        }
      ]
    },
    {
      "cell_type": "code",
      "source": [
        "df = pdr.get_data_tiingo('AMZN', api_key=\"1f56ecefdd32ea96ef9f037c8c62cfe7179294c2\")\n"
      ],
      "metadata": {
        "colab": {
          "base_uri": "https://localhost:8080/"
        },
        "id": "8nxmFW3lr39v",
        "outputId": "a8266b2e-cd12-47e1-8fa3-2445f481ea25"
      },
      "execution_count": 12,
      "outputs": [
        {
          "output_type": "stream",
          "name": "stderr",
          "text": [
            "/usr/local/lib/python3.8/dist-packages/pandas_datareader/tiingo.py:234: FutureWarning: In a future version of pandas all arguments of concat except for the argument 'objs' will be keyword-only\n",
            "  return pd.concat(dfs, self._concat_axis)\n"
          ]
        }
      ]
    },
    {
      "cell_type": "code",
      "source": [
        "df"
      ],
      "metadata": {
        "colab": {
          "base_uri": "https://localhost:8080/",
          "height": 454
        },
        "id": "s7dociuetGrU",
        "outputId": "be03addb-c1b0-409f-ba9e-1898602cf566"
      },
      "execution_count": 13,
      "outputs": [
        {
          "output_type": "execute_result",
          "data": {
            "text/plain": [
              "                                    close      high        low     open  \\\n",
              "symbol date                                                               \n",
              "AMZN   2018-01-23 00:00:00+00:00  1362.54  1364.900  1337.3400  1338.09   \n",
              "       2018-01-24 00:00:00+00:00  1357.51  1388.160  1338.0000  1374.82   \n",
              "       2018-01-25 00:00:00+00:00  1377.95  1378.340  1357.6200  1368.00   \n",
              "       2018-01-26 00:00:00+00:00  1402.05  1402.530  1380.9100  1392.01   \n",
              "       2018-01-29 00:00:00+00:00  1417.68  1431.390  1400.4400  1409.18   \n",
              "...                                   ...       ...        ...      ...   \n",
              "       2023-01-13 00:00:00+00:00    98.12    98.370    94.1200    94.18   \n",
              "       2023-01-17 00:00:00+00:00    96.05    98.890    95.7300    98.68   \n",
              "       2023-01-18 00:00:00+00:00    95.46    99.320    95.3800    97.25   \n",
              "       2023-01-19 00:00:00+00:00    93.68    95.440    92.8600    94.74   \n",
              "       2023-01-20 00:00:00+00:00    97.25    97.354    93.2025    93.86   \n",
              "\n",
              "                                    volume   adjClose    adjHigh     adjLow  \\\n",
              "symbol date                                                                   \n",
              "AMZN   2018-01-23 00:00:00+00:00   5056764  67.963312  68.081028  66.706339   \n",
              "       2018-01-24 00:00:00+00:00   6730084  67.712416  69.241234  66.739260   \n",
              "       2018-01-25 00:00:00+00:00   4621862  68.731961  68.751414  67.717903   \n",
              "       2018-01-26 00:00:00+00:00   4584082  69.934065  69.958008  68.879605   \n",
              "       2018-01-29 00:00:00+00:00   5628992  70.713688  71.397541  69.853759   \n",
              "...                                    ...        ...        ...        ...   \n",
              "       2023-01-13 00:00:00+00:00  85549432  98.120000  98.370000  94.120000   \n",
              "       2023-01-17 00:00:00+00:00  72755001  96.050000  98.890000  95.730000   \n",
              "       2023-01-18 00:00:00+00:00  79570370  95.460000  99.320000  95.380000   \n",
              "       2023-01-19 00:00:00+00:00  69002663  93.680000  95.440000  92.860000   \n",
              "       2023-01-20 00:00:00+00:00  67481539  97.250000  97.354000  93.202500   \n",
              "\n",
              "                                    adjOpen  adjVolume  divCash  splitFactor  \n",
              "symbol date                                                                   \n",
              "AMZN   2018-01-23 00:00:00+00:00  66.743749  101135280      0.0          1.0  \n",
              "       2018-01-24 00:00:00+00:00  68.575837  134601680      0.0          1.0  \n",
              "       2018-01-25 00:00:00+00:00  68.235656   92437240      0.0          1.0  \n",
              "       2018-01-26 00:00:00+00:00  69.433272   91681640      0.0          1.0  \n",
              "       2018-01-29 00:00:00+00:00  70.289709  112579840      0.0          1.0  \n",
              "...                                     ...        ...      ...          ...  \n",
              "       2023-01-13 00:00:00+00:00  94.180000   85549432      0.0          1.0  \n",
              "       2023-01-17 00:00:00+00:00  98.680000   72755001      0.0          1.0  \n",
              "       2023-01-18 00:00:00+00:00  97.250000   79570370      0.0          1.0  \n",
              "       2023-01-19 00:00:00+00:00  94.740000   69002663      0.0          1.0  \n",
              "       2023-01-20 00:00:00+00:00  93.860000   67481539      0.0          1.0  \n",
              "\n",
              "[1258 rows x 12 columns]"
            ],
            "text/html": [
              "\n",
              "  <div id=\"df-68362f51-060b-4444-9711-c1350947662d\">\n",
              "    <div class=\"colab-df-container\">\n",
              "      <div>\n",
              "<style scoped>\n",
              "    .dataframe tbody tr th:only-of-type {\n",
              "        vertical-align: middle;\n",
              "    }\n",
              "\n",
              "    .dataframe tbody tr th {\n",
              "        vertical-align: top;\n",
              "    }\n",
              "\n",
              "    .dataframe thead th {\n",
              "        text-align: right;\n",
              "    }\n",
              "</style>\n",
              "<table border=\"1\" class=\"dataframe\">\n",
              "  <thead>\n",
              "    <tr style=\"text-align: right;\">\n",
              "      <th></th>\n",
              "      <th></th>\n",
              "      <th>close</th>\n",
              "      <th>high</th>\n",
              "      <th>low</th>\n",
              "      <th>open</th>\n",
              "      <th>volume</th>\n",
              "      <th>adjClose</th>\n",
              "      <th>adjHigh</th>\n",
              "      <th>adjLow</th>\n",
              "      <th>adjOpen</th>\n",
              "      <th>adjVolume</th>\n",
              "      <th>divCash</th>\n",
              "      <th>splitFactor</th>\n",
              "    </tr>\n",
              "    <tr>\n",
              "      <th>symbol</th>\n",
              "      <th>date</th>\n",
              "      <th></th>\n",
              "      <th></th>\n",
              "      <th></th>\n",
              "      <th></th>\n",
              "      <th></th>\n",
              "      <th></th>\n",
              "      <th></th>\n",
              "      <th></th>\n",
              "      <th></th>\n",
              "      <th></th>\n",
              "      <th></th>\n",
              "      <th></th>\n",
              "    </tr>\n",
              "  </thead>\n",
              "  <tbody>\n",
              "    <tr>\n",
              "      <th rowspan=\"11\" valign=\"top\">AMZN</th>\n",
              "      <th>2018-01-23 00:00:00+00:00</th>\n",
              "      <td>1362.54</td>\n",
              "      <td>1364.900</td>\n",
              "      <td>1337.3400</td>\n",
              "      <td>1338.09</td>\n",
              "      <td>5056764</td>\n",
              "      <td>67.963312</td>\n",
              "      <td>68.081028</td>\n",
              "      <td>66.706339</td>\n",
              "      <td>66.743749</td>\n",
              "      <td>101135280</td>\n",
              "      <td>0.0</td>\n",
              "      <td>1.0</td>\n",
              "    </tr>\n",
              "    <tr>\n",
              "      <th>2018-01-24 00:00:00+00:00</th>\n",
              "      <td>1357.51</td>\n",
              "      <td>1388.160</td>\n",
              "      <td>1338.0000</td>\n",
              "      <td>1374.82</td>\n",
              "      <td>6730084</td>\n",
              "      <td>67.712416</td>\n",
              "      <td>69.241234</td>\n",
              "      <td>66.739260</td>\n",
              "      <td>68.575837</td>\n",
              "      <td>134601680</td>\n",
              "      <td>0.0</td>\n",
              "      <td>1.0</td>\n",
              "    </tr>\n",
              "    <tr>\n",
              "      <th>2018-01-25 00:00:00+00:00</th>\n",
              "      <td>1377.95</td>\n",
              "      <td>1378.340</td>\n",
              "      <td>1357.6200</td>\n",
              "      <td>1368.00</td>\n",
              "      <td>4621862</td>\n",
              "      <td>68.731961</td>\n",
              "      <td>68.751414</td>\n",
              "      <td>67.717903</td>\n",
              "      <td>68.235656</td>\n",
              "      <td>92437240</td>\n",
              "      <td>0.0</td>\n",
              "      <td>1.0</td>\n",
              "    </tr>\n",
              "    <tr>\n",
              "      <th>2018-01-26 00:00:00+00:00</th>\n",
              "      <td>1402.05</td>\n",
              "      <td>1402.530</td>\n",
              "      <td>1380.9100</td>\n",
              "      <td>1392.01</td>\n",
              "      <td>4584082</td>\n",
              "      <td>69.934065</td>\n",
              "      <td>69.958008</td>\n",
              "      <td>68.879605</td>\n",
              "      <td>69.433272</td>\n",
              "      <td>91681640</td>\n",
              "      <td>0.0</td>\n",
              "      <td>1.0</td>\n",
              "    </tr>\n",
              "    <tr>\n",
              "      <th>2018-01-29 00:00:00+00:00</th>\n",
              "      <td>1417.68</td>\n",
              "      <td>1431.390</td>\n",
              "      <td>1400.4400</td>\n",
              "      <td>1409.18</td>\n",
              "      <td>5628992</td>\n",
              "      <td>70.713688</td>\n",
              "      <td>71.397541</td>\n",
              "      <td>69.853759</td>\n",
              "      <td>70.289709</td>\n",
              "      <td>112579840</td>\n",
              "      <td>0.0</td>\n",
              "      <td>1.0</td>\n",
              "    </tr>\n",
              "    <tr>\n",
              "      <th>...</th>\n",
              "      <td>...</td>\n",
              "      <td>...</td>\n",
              "      <td>...</td>\n",
              "      <td>...</td>\n",
              "      <td>...</td>\n",
              "      <td>...</td>\n",
              "      <td>...</td>\n",
              "      <td>...</td>\n",
              "      <td>...</td>\n",
              "      <td>...</td>\n",
              "      <td>...</td>\n",
              "      <td>...</td>\n",
              "    </tr>\n",
              "    <tr>\n",
              "      <th>2023-01-13 00:00:00+00:00</th>\n",
              "      <td>98.12</td>\n",
              "      <td>98.370</td>\n",
              "      <td>94.1200</td>\n",
              "      <td>94.18</td>\n",
              "      <td>85549432</td>\n",
              "      <td>98.120000</td>\n",
              "      <td>98.370000</td>\n",
              "      <td>94.120000</td>\n",
              "      <td>94.180000</td>\n",
              "      <td>85549432</td>\n",
              "      <td>0.0</td>\n",
              "      <td>1.0</td>\n",
              "    </tr>\n",
              "    <tr>\n",
              "      <th>2023-01-17 00:00:00+00:00</th>\n",
              "      <td>96.05</td>\n",
              "      <td>98.890</td>\n",
              "      <td>95.7300</td>\n",
              "      <td>98.68</td>\n",
              "      <td>72755001</td>\n",
              "      <td>96.050000</td>\n",
              "      <td>98.890000</td>\n",
              "      <td>95.730000</td>\n",
              "      <td>98.680000</td>\n",
              "      <td>72755001</td>\n",
              "      <td>0.0</td>\n",
              "      <td>1.0</td>\n",
              "    </tr>\n",
              "    <tr>\n",
              "      <th>2023-01-18 00:00:00+00:00</th>\n",
              "      <td>95.46</td>\n",
              "      <td>99.320</td>\n",
              "      <td>95.3800</td>\n",
              "      <td>97.25</td>\n",
              "      <td>79570370</td>\n",
              "      <td>95.460000</td>\n",
              "      <td>99.320000</td>\n",
              "      <td>95.380000</td>\n",
              "      <td>97.250000</td>\n",
              "      <td>79570370</td>\n",
              "      <td>0.0</td>\n",
              "      <td>1.0</td>\n",
              "    </tr>\n",
              "    <tr>\n",
              "      <th>2023-01-19 00:00:00+00:00</th>\n",
              "      <td>93.68</td>\n",
              "      <td>95.440</td>\n",
              "      <td>92.8600</td>\n",
              "      <td>94.74</td>\n",
              "      <td>69002663</td>\n",
              "      <td>93.680000</td>\n",
              "      <td>95.440000</td>\n",
              "      <td>92.860000</td>\n",
              "      <td>94.740000</td>\n",
              "      <td>69002663</td>\n",
              "      <td>0.0</td>\n",
              "      <td>1.0</td>\n",
              "    </tr>\n",
              "    <tr>\n",
              "      <th>2023-01-20 00:00:00+00:00</th>\n",
              "      <td>97.25</td>\n",
              "      <td>97.354</td>\n",
              "      <td>93.2025</td>\n",
              "      <td>93.86</td>\n",
              "      <td>67481539</td>\n",
              "      <td>97.250000</td>\n",
              "      <td>97.354000</td>\n",
              "      <td>93.202500</td>\n",
              "      <td>93.860000</td>\n",
              "      <td>67481539</td>\n",
              "      <td>0.0</td>\n",
              "      <td>1.0</td>\n",
              "    </tr>\n",
              "  </tbody>\n",
              "</table>\n",
              "<p>1258 rows × 12 columns</p>\n",
              "</div>\n",
              "      <button class=\"colab-df-convert\" onclick=\"convertToInteractive('df-68362f51-060b-4444-9711-c1350947662d')\"\n",
              "              title=\"Convert this dataframe to an interactive table.\"\n",
              "              style=\"display:none;\">\n",
              "        \n",
              "  <svg xmlns=\"http://www.w3.org/2000/svg\" height=\"24px\"viewBox=\"0 0 24 24\"\n",
              "       width=\"24px\">\n",
              "    <path d=\"M0 0h24v24H0V0z\" fill=\"none\"/>\n",
              "    <path d=\"M18.56 5.44l.94 2.06.94-2.06 2.06-.94-2.06-.94-.94-2.06-.94 2.06-2.06.94zm-11 1L8.5 8.5l.94-2.06 2.06-.94-2.06-.94L8.5 2.5l-.94 2.06-2.06.94zm10 10l.94 2.06.94-2.06 2.06-.94-2.06-.94-.94-2.06-.94 2.06-2.06.94z\"/><path d=\"M17.41 7.96l-1.37-1.37c-.4-.4-.92-.59-1.43-.59-.52 0-1.04.2-1.43.59L10.3 9.45l-7.72 7.72c-.78.78-.78 2.05 0 2.83L4 21.41c.39.39.9.59 1.41.59.51 0 1.02-.2 1.41-.59l7.78-7.78 2.81-2.81c.8-.78.8-2.07 0-2.86zM5.41 20L4 18.59l7.72-7.72 1.47 1.35L5.41 20z\"/>\n",
              "  </svg>\n",
              "      </button>\n",
              "      \n",
              "  <style>\n",
              "    .colab-df-container {\n",
              "      display:flex;\n",
              "      flex-wrap:wrap;\n",
              "      gap: 12px;\n",
              "    }\n",
              "\n",
              "    .colab-df-convert {\n",
              "      background-color: #E8F0FE;\n",
              "      border: none;\n",
              "      border-radius: 50%;\n",
              "      cursor: pointer;\n",
              "      display: none;\n",
              "      fill: #1967D2;\n",
              "      height: 32px;\n",
              "      padding: 0 0 0 0;\n",
              "      width: 32px;\n",
              "    }\n",
              "\n",
              "    .colab-df-convert:hover {\n",
              "      background-color: #E2EBFA;\n",
              "      box-shadow: 0px 1px 2px rgba(60, 64, 67, 0.3), 0px 1px 3px 1px rgba(60, 64, 67, 0.15);\n",
              "      fill: #174EA6;\n",
              "    }\n",
              "\n",
              "    [theme=dark] .colab-df-convert {\n",
              "      background-color: #3B4455;\n",
              "      fill: #D2E3FC;\n",
              "    }\n",
              "\n",
              "    [theme=dark] .colab-df-convert:hover {\n",
              "      background-color: #434B5C;\n",
              "      box-shadow: 0px 1px 3px 1px rgba(0, 0, 0, 0.15);\n",
              "      filter: drop-shadow(0px 1px 2px rgba(0, 0, 0, 0.3));\n",
              "      fill: #FFFFFF;\n",
              "    }\n",
              "  </style>\n",
              "\n",
              "      <script>\n",
              "        const buttonEl =\n",
              "          document.querySelector('#df-68362f51-060b-4444-9711-c1350947662d button.colab-df-convert');\n",
              "        buttonEl.style.display =\n",
              "          google.colab.kernel.accessAllowed ? 'block' : 'none';\n",
              "\n",
              "        async function convertToInteractive(key) {\n",
              "          const element = document.querySelector('#df-68362f51-060b-4444-9711-c1350947662d');\n",
              "          const dataTable =\n",
              "            await google.colab.kernel.invokeFunction('convertToInteractive',\n",
              "                                                     [key], {});\n",
              "          if (!dataTable) return;\n",
              "\n",
              "          const docLinkHtml = 'Like what you see? Visit the ' +\n",
              "            '<a target=\"_blank\" href=https://colab.research.google.com/notebooks/data_table.ipynb>data table notebook</a>'\n",
              "            + ' to learn more about interactive tables.';\n",
              "          element.innerHTML = '';\n",
              "          dataTable['output_type'] = 'display_data';\n",
              "          await google.colab.output.renderOutput(dataTable, element);\n",
              "          const docLink = document.createElement('div');\n",
              "          docLink.innerHTML = docLinkHtml;\n",
              "          element.appendChild(docLink);\n",
              "        }\n",
              "      </script>\n",
              "    </div>\n",
              "  </div>\n",
              "  "
            ]
          },
          "metadata": {},
          "execution_count": 13
        }
      ]
    },
    {
      "cell_type": "code",
      "source": [
        "df.to_csv('AMZN.csv')"
      ],
      "metadata": {
        "id": "o7XFiNdntHwE"
      },
      "execution_count": 14,
      "outputs": []
    },
    {
      "cell_type": "code",
      "source": [
        "import pandas as pd"
      ],
      "metadata": {
        "id": "s4iCOQSutzgY"
      },
      "execution_count": 15,
      "outputs": []
    },
    {
      "cell_type": "code",
      "source": [
        "df=pd.read_csv('AMZN.csv')"
      ],
      "metadata": {
        "id": "Wpo_F1dptmHq"
      },
      "execution_count": 16,
      "outputs": []
    },
    {
      "cell_type": "code",
      "source": [
        "df.head(10)"
      ],
      "metadata": {
        "colab": {
          "base_uri": "https://localhost:8080/",
          "height": 362
        },
        "id": "tztKpRF5t21V",
        "outputId": "e4b00385-4be0-4ed2-f084-12c4770b8808"
      },
      "execution_count": 17,
      "outputs": [
        {
          "output_type": "execute_result",
          "data": {
            "text/plain": [
              "  symbol                       date    close     high      low     open  \\\n",
              "0   AMZN  2018-01-23 00:00:00+00:00  1362.54  1364.90  1337.34  1338.09   \n",
              "1   AMZN  2018-01-24 00:00:00+00:00  1357.51  1388.16  1338.00  1374.82   \n",
              "2   AMZN  2018-01-25 00:00:00+00:00  1377.95  1378.34  1357.62  1368.00   \n",
              "3   AMZN  2018-01-26 00:00:00+00:00  1402.05  1402.53  1380.91  1392.01   \n",
              "4   AMZN  2018-01-29 00:00:00+00:00  1417.68  1431.39  1400.44  1409.18   \n",
              "5   AMZN  2018-01-30 00:00:00+00:00  1437.82  1439.25  1392.00  1403.17   \n",
              "6   AMZN  2018-01-31 00:00:00+00:00  1450.89  1472.58  1450.04  1451.30   \n",
              "7   AMZN  2018-02-01 00:00:00+00:00  1390.00  1459.88  1385.14  1445.00   \n",
              "8   AMZN  2018-02-02 00:00:00+00:00  1429.95  1498.00  1414.00  1477.39   \n",
              "9   AMZN  2018-02-05 00:00:00+00:00  1390.00  1458.98  1320.72  1402.62   \n",
              "\n",
              "     volume   adjClose    adjHigh     adjLow    adjOpen  adjVolume  divCash  \\\n",
              "0   5056764  67.963312  68.081028  66.706339  66.743749  101135280      0.0   \n",
              "1   6730084  67.712416  69.241234  66.739260  68.575837  134601680      0.0   \n",
              "2   4621862  68.731961  68.751414  67.717903  68.235656   92437240      0.0   \n",
              "3   4584082  69.934065  69.958008  68.879605  69.433272   91681640      0.0   \n",
              "4   5628992  70.713688  71.397541  69.853759  70.289709  112579840      0.0   \n",
              "5   5736512  71.718268  71.789596  69.432773  69.989931  114730240      0.0   \n",
              "6   6220396  72.370198  73.452092  72.327800  72.390649  124407920      0.0   \n",
              "7   7812953  69.333013  72.818618  69.090597  72.076406  156259060      0.0   \n",
              "8  10915962  71.325714  74.720038  70.530130  73.692014  218319240      0.0   \n",
              "9  10756332  69.333013  72.773726  65.877336  69.962497  215126640      0.0   \n",
              "\n",
              "   splitFactor  \n",
              "0          1.0  \n",
              "1          1.0  \n",
              "2          1.0  \n",
              "3          1.0  \n",
              "4          1.0  \n",
              "5          1.0  \n",
              "6          1.0  \n",
              "7          1.0  \n",
              "8          1.0  \n",
              "9          1.0  "
            ],
            "text/html": [
              "\n",
              "  <div id=\"df-3e2167f0-ceef-4232-82b3-ea9f41786098\">\n",
              "    <div class=\"colab-df-container\">\n",
              "      <div>\n",
              "<style scoped>\n",
              "    .dataframe tbody tr th:only-of-type {\n",
              "        vertical-align: middle;\n",
              "    }\n",
              "\n",
              "    .dataframe tbody tr th {\n",
              "        vertical-align: top;\n",
              "    }\n",
              "\n",
              "    .dataframe thead th {\n",
              "        text-align: right;\n",
              "    }\n",
              "</style>\n",
              "<table border=\"1\" class=\"dataframe\">\n",
              "  <thead>\n",
              "    <tr style=\"text-align: right;\">\n",
              "      <th></th>\n",
              "      <th>symbol</th>\n",
              "      <th>date</th>\n",
              "      <th>close</th>\n",
              "      <th>high</th>\n",
              "      <th>low</th>\n",
              "      <th>open</th>\n",
              "      <th>volume</th>\n",
              "      <th>adjClose</th>\n",
              "      <th>adjHigh</th>\n",
              "      <th>adjLow</th>\n",
              "      <th>adjOpen</th>\n",
              "      <th>adjVolume</th>\n",
              "      <th>divCash</th>\n",
              "      <th>splitFactor</th>\n",
              "    </tr>\n",
              "  </thead>\n",
              "  <tbody>\n",
              "    <tr>\n",
              "      <th>0</th>\n",
              "      <td>AMZN</td>\n",
              "      <td>2018-01-23 00:00:00+00:00</td>\n",
              "      <td>1362.54</td>\n",
              "      <td>1364.90</td>\n",
              "      <td>1337.34</td>\n",
              "      <td>1338.09</td>\n",
              "      <td>5056764</td>\n",
              "      <td>67.963312</td>\n",
              "      <td>68.081028</td>\n",
              "      <td>66.706339</td>\n",
              "      <td>66.743749</td>\n",
              "      <td>101135280</td>\n",
              "      <td>0.0</td>\n",
              "      <td>1.0</td>\n",
              "    </tr>\n",
              "    <tr>\n",
              "      <th>1</th>\n",
              "      <td>AMZN</td>\n",
              "      <td>2018-01-24 00:00:00+00:00</td>\n",
              "      <td>1357.51</td>\n",
              "      <td>1388.16</td>\n",
              "      <td>1338.00</td>\n",
              "      <td>1374.82</td>\n",
              "      <td>6730084</td>\n",
              "      <td>67.712416</td>\n",
              "      <td>69.241234</td>\n",
              "      <td>66.739260</td>\n",
              "      <td>68.575837</td>\n",
              "      <td>134601680</td>\n",
              "      <td>0.0</td>\n",
              "      <td>1.0</td>\n",
              "    </tr>\n",
              "    <tr>\n",
              "      <th>2</th>\n",
              "      <td>AMZN</td>\n",
              "      <td>2018-01-25 00:00:00+00:00</td>\n",
              "      <td>1377.95</td>\n",
              "      <td>1378.34</td>\n",
              "      <td>1357.62</td>\n",
              "      <td>1368.00</td>\n",
              "      <td>4621862</td>\n",
              "      <td>68.731961</td>\n",
              "      <td>68.751414</td>\n",
              "      <td>67.717903</td>\n",
              "      <td>68.235656</td>\n",
              "      <td>92437240</td>\n",
              "      <td>0.0</td>\n",
              "      <td>1.0</td>\n",
              "    </tr>\n",
              "    <tr>\n",
              "      <th>3</th>\n",
              "      <td>AMZN</td>\n",
              "      <td>2018-01-26 00:00:00+00:00</td>\n",
              "      <td>1402.05</td>\n",
              "      <td>1402.53</td>\n",
              "      <td>1380.91</td>\n",
              "      <td>1392.01</td>\n",
              "      <td>4584082</td>\n",
              "      <td>69.934065</td>\n",
              "      <td>69.958008</td>\n",
              "      <td>68.879605</td>\n",
              "      <td>69.433272</td>\n",
              "      <td>91681640</td>\n",
              "      <td>0.0</td>\n",
              "      <td>1.0</td>\n",
              "    </tr>\n",
              "    <tr>\n",
              "      <th>4</th>\n",
              "      <td>AMZN</td>\n",
              "      <td>2018-01-29 00:00:00+00:00</td>\n",
              "      <td>1417.68</td>\n",
              "      <td>1431.39</td>\n",
              "      <td>1400.44</td>\n",
              "      <td>1409.18</td>\n",
              "      <td>5628992</td>\n",
              "      <td>70.713688</td>\n",
              "      <td>71.397541</td>\n",
              "      <td>69.853759</td>\n",
              "      <td>70.289709</td>\n",
              "      <td>112579840</td>\n",
              "      <td>0.0</td>\n",
              "      <td>1.0</td>\n",
              "    </tr>\n",
              "    <tr>\n",
              "      <th>5</th>\n",
              "      <td>AMZN</td>\n",
              "      <td>2018-01-30 00:00:00+00:00</td>\n",
              "      <td>1437.82</td>\n",
              "      <td>1439.25</td>\n",
              "      <td>1392.00</td>\n",
              "      <td>1403.17</td>\n",
              "      <td>5736512</td>\n",
              "      <td>71.718268</td>\n",
              "      <td>71.789596</td>\n",
              "      <td>69.432773</td>\n",
              "      <td>69.989931</td>\n",
              "      <td>114730240</td>\n",
              "      <td>0.0</td>\n",
              "      <td>1.0</td>\n",
              "    </tr>\n",
              "    <tr>\n",
              "      <th>6</th>\n",
              "      <td>AMZN</td>\n",
              "      <td>2018-01-31 00:00:00+00:00</td>\n",
              "      <td>1450.89</td>\n",
              "      <td>1472.58</td>\n",
              "      <td>1450.04</td>\n",
              "      <td>1451.30</td>\n",
              "      <td>6220396</td>\n",
              "      <td>72.370198</td>\n",
              "      <td>73.452092</td>\n",
              "      <td>72.327800</td>\n",
              "      <td>72.390649</td>\n",
              "      <td>124407920</td>\n",
              "      <td>0.0</td>\n",
              "      <td>1.0</td>\n",
              "    </tr>\n",
              "    <tr>\n",
              "      <th>7</th>\n",
              "      <td>AMZN</td>\n",
              "      <td>2018-02-01 00:00:00+00:00</td>\n",
              "      <td>1390.00</td>\n",
              "      <td>1459.88</td>\n",
              "      <td>1385.14</td>\n",
              "      <td>1445.00</td>\n",
              "      <td>7812953</td>\n",
              "      <td>69.333013</td>\n",
              "      <td>72.818618</td>\n",
              "      <td>69.090597</td>\n",
              "      <td>72.076406</td>\n",
              "      <td>156259060</td>\n",
              "      <td>0.0</td>\n",
              "      <td>1.0</td>\n",
              "    </tr>\n",
              "    <tr>\n",
              "      <th>8</th>\n",
              "      <td>AMZN</td>\n",
              "      <td>2018-02-02 00:00:00+00:00</td>\n",
              "      <td>1429.95</td>\n",
              "      <td>1498.00</td>\n",
              "      <td>1414.00</td>\n",
              "      <td>1477.39</td>\n",
              "      <td>10915962</td>\n",
              "      <td>71.325714</td>\n",
              "      <td>74.720038</td>\n",
              "      <td>70.530130</td>\n",
              "      <td>73.692014</td>\n",
              "      <td>218319240</td>\n",
              "      <td>0.0</td>\n",
              "      <td>1.0</td>\n",
              "    </tr>\n",
              "    <tr>\n",
              "      <th>9</th>\n",
              "      <td>AMZN</td>\n",
              "      <td>2018-02-05 00:00:00+00:00</td>\n",
              "      <td>1390.00</td>\n",
              "      <td>1458.98</td>\n",
              "      <td>1320.72</td>\n",
              "      <td>1402.62</td>\n",
              "      <td>10756332</td>\n",
              "      <td>69.333013</td>\n",
              "      <td>72.773726</td>\n",
              "      <td>65.877336</td>\n",
              "      <td>69.962497</td>\n",
              "      <td>215126640</td>\n",
              "      <td>0.0</td>\n",
              "      <td>1.0</td>\n",
              "    </tr>\n",
              "  </tbody>\n",
              "</table>\n",
              "</div>\n",
              "      <button class=\"colab-df-convert\" onclick=\"convertToInteractive('df-3e2167f0-ceef-4232-82b3-ea9f41786098')\"\n",
              "              title=\"Convert this dataframe to an interactive table.\"\n",
              "              style=\"display:none;\">\n",
              "        \n",
              "  <svg xmlns=\"http://www.w3.org/2000/svg\" height=\"24px\"viewBox=\"0 0 24 24\"\n",
              "       width=\"24px\">\n",
              "    <path d=\"M0 0h24v24H0V0z\" fill=\"none\"/>\n",
              "    <path d=\"M18.56 5.44l.94 2.06.94-2.06 2.06-.94-2.06-.94-.94-2.06-.94 2.06-2.06.94zm-11 1L8.5 8.5l.94-2.06 2.06-.94-2.06-.94L8.5 2.5l-.94 2.06-2.06.94zm10 10l.94 2.06.94-2.06 2.06-.94-2.06-.94-.94-2.06-.94 2.06-2.06.94z\"/><path d=\"M17.41 7.96l-1.37-1.37c-.4-.4-.92-.59-1.43-.59-.52 0-1.04.2-1.43.59L10.3 9.45l-7.72 7.72c-.78.78-.78 2.05 0 2.83L4 21.41c.39.39.9.59 1.41.59.51 0 1.02-.2 1.41-.59l7.78-7.78 2.81-2.81c.8-.78.8-2.07 0-2.86zM5.41 20L4 18.59l7.72-7.72 1.47 1.35L5.41 20z\"/>\n",
              "  </svg>\n",
              "      </button>\n",
              "      \n",
              "  <style>\n",
              "    .colab-df-container {\n",
              "      display:flex;\n",
              "      flex-wrap:wrap;\n",
              "      gap: 12px;\n",
              "    }\n",
              "\n",
              "    .colab-df-convert {\n",
              "      background-color: #E8F0FE;\n",
              "      border: none;\n",
              "      border-radius: 50%;\n",
              "      cursor: pointer;\n",
              "      display: none;\n",
              "      fill: #1967D2;\n",
              "      height: 32px;\n",
              "      padding: 0 0 0 0;\n",
              "      width: 32px;\n",
              "    }\n",
              "\n",
              "    .colab-df-convert:hover {\n",
              "      background-color: #E2EBFA;\n",
              "      box-shadow: 0px 1px 2px rgba(60, 64, 67, 0.3), 0px 1px 3px 1px rgba(60, 64, 67, 0.15);\n",
              "      fill: #174EA6;\n",
              "    }\n",
              "\n",
              "    [theme=dark] .colab-df-convert {\n",
              "      background-color: #3B4455;\n",
              "      fill: #D2E3FC;\n",
              "    }\n",
              "\n",
              "    [theme=dark] .colab-df-convert:hover {\n",
              "      background-color: #434B5C;\n",
              "      box-shadow: 0px 1px 3px 1px rgba(0, 0, 0, 0.15);\n",
              "      filter: drop-shadow(0px 1px 2px rgba(0, 0, 0, 0.3));\n",
              "      fill: #FFFFFF;\n",
              "    }\n",
              "  </style>\n",
              "\n",
              "      <script>\n",
              "        const buttonEl =\n",
              "          document.querySelector('#df-3e2167f0-ceef-4232-82b3-ea9f41786098 button.colab-df-convert');\n",
              "        buttonEl.style.display =\n",
              "          google.colab.kernel.accessAllowed ? 'block' : 'none';\n",
              "\n",
              "        async function convertToInteractive(key) {\n",
              "          const element = document.querySelector('#df-3e2167f0-ceef-4232-82b3-ea9f41786098');\n",
              "          const dataTable =\n",
              "            await google.colab.kernel.invokeFunction('convertToInteractive',\n",
              "                                                     [key], {});\n",
              "          if (!dataTable) return;\n",
              "\n",
              "          const docLinkHtml = 'Like what you see? Visit the ' +\n",
              "            '<a target=\"_blank\" href=https://colab.research.google.com/notebooks/data_table.ipynb>data table notebook</a>'\n",
              "            + ' to learn more about interactive tables.';\n",
              "          element.innerHTML = '';\n",
              "          dataTable['output_type'] = 'display_data';\n",
              "          await google.colab.output.renderOutput(dataTable, element);\n",
              "          const docLink = document.createElement('div');\n",
              "          docLink.innerHTML = docLinkHtml;\n",
              "          element.appendChild(docLink);\n",
              "        }\n",
              "      </script>\n",
              "    </div>\n",
              "  </div>\n",
              "  "
            ]
          },
          "metadata": {},
          "execution_count": 17
        }
      ]
    },
    {
      "cell_type": "code",
      "source": [
        "pip install alpha_vantage"
      ],
      "metadata": {
        "colab": {
          "base_uri": "https://localhost:8080/"
        },
        "id": "gOBz3Hk92B3R",
        "outputId": "14d96371-8e0d-49c9-a2cd-6c7696f9f24c"
      },
      "execution_count": 18,
      "outputs": [
        {
          "output_type": "stream",
          "name": "stdout",
          "text": [
            "Looking in indexes: https://pypi.org/simple, https://us-python.pkg.dev/colab-wheels/public/simple/\n",
            "Collecting alpha_vantage\n",
            "  Downloading alpha_vantage-2.3.1-py3-none-any.whl (31 kB)\n",
            "Requirement already satisfied: requests in /usr/local/lib/python3.8/dist-packages (from alpha_vantage) (2.28.2)\n",
            "Requirement already satisfied: aiohttp in /usr/local/lib/python3.8/dist-packages (from alpha_vantage) (3.8.3)\n",
            "Requirement already satisfied: async-timeout<5.0,>=4.0.0a3 in /usr/local/lib/python3.8/dist-packages (from aiohttp->alpha_vantage) (4.0.2)\n",
            "Requirement already satisfied: aiosignal>=1.1.2 in /usr/local/lib/python3.8/dist-packages (from aiohttp->alpha_vantage) (1.3.1)\n",
            "Requirement already satisfied: charset-normalizer<3.0,>=2.0 in /usr/local/lib/python3.8/dist-packages (from aiohttp->alpha_vantage) (2.1.1)\n",
            "Requirement already satisfied: multidict<7.0,>=4.5 in /usr/local/lib/python3.8/dist-packages (from aiohttp->alpha_vantage) (6.0.4)\n",
            "Requirement already satisfied: attrs>=17.3.0 in /usr/local/lib/python3.8/dist-packages (from aiohttp->alpha_vantage) (22.2.0)\n",
            "Requirement already satisfied: yarl<2.0,>=1.0 in /usr/local/lib/python3.8/dist-packages (from aiohttp->alpha_vantage) (1.8.2)\n",
            "Requirement already satisfied: frozenlist>=1.1.1 in /usr/local/lib/python3.8/dist-packages (from aiohttp->alpha_vantage) (1.3.3)\n",
            "Requirement already satisfied: idna<4,>=2.5 in /usr/local/lib/python3.8/dist-packages (from requests->alpha_vantage) (2.10)\n",
            "Requirement already satisfied: urllib3<1.27,>=1.21.1 in /usr/local/lib/python3.8/dist-packages (from requests->alpha_vantage) (1.24.3)\n",
            "Requirement already satisfied: certifi>=2017.4.17 in /usr/local/lib/python3.8/dist-packages (from requests->alpha_vantage) (2022.12.7)\n",
            "Installing collected packages: alpha_vantage\n",
            "Successfully installed alpha_vantage-2.3.1\n"
          ]
        }
      ]
    },
    {
      "cell_type": "code",
      "source": [
        "from alpha_vantage.timeseries import TimeSeries\n",
        "API_Key=\"IZPLH39QEWJGPINI\"\n",
        "\n",
        "ts=TimeSeries(key=API_Key,output_format='pandas')\n",
        "data=ts.get_monthly_adjusted(\"AMZN\")\n",
        "data[0]"
      ],
      "metadata": {
        "colab": {
          "base_uri": "https://localhost:8080/",
          "height": 454
        },
        "id": "KrXYs0_z4We6",
        "outputId": "d08f4d55-388d-4136-b8a9-4c96745558df"
      },
      "execution_count": 14,
      "outputs": [
        {
          "output_type": "execute_result",
          "data": {
            "text/plain": [
              "            1. open  2. high  3. low  4. close  5. adjusted close  \\\n",
              "date                                                                \n",
              "2023-01-20    85.46    99.32   81.43     97.25            97.2500   \n",
              "2022-12-30    96.99    97.23   81.69     84.00            84.0000   \n",
              "2022-11-30   103.99   104.58   85.87     96.54            96.3080   \n",
              "2022-10-31   113.58   123.00   97.66    102.44           102.1939   \n",
              "2022-09-30   126.00   136.49  112.06    113.00           112.7285   \n",
              "...             ...      ...     ...       ...                ...   \n",
              "2000-04-28    65.44    68.63   40.81     55.19             2.7529   \n",
              "2000-03-31    67.63    75.25   60.00     67.00             3.3420   \n",
              "2000-02-29    67.50    85.94   63.06     68.88             3.4357   \n",
              "2000-01-31    81.50    91.50   58.44     64.56             3.2202   \n",
              "1999-12-31    87.25   113.00   76.00     76.13             3.7974   \n",
              "\n",
              "               6. volume  7. dividend amount  \n",
              "date                                          \n",
              "2023-01-20  9.925880e+08                 0.0  \n",
              "2022-12-30  1.549193e+09                 0.2  \n",
              "2022-11-30  2.035252e+09                 0.0  \n",
              "2022-10-31  1.459512e+09                 0.0  \n",
              "2022-09-30  1.209988e+09                 0.0  \n",
              "...                  ...                 ...  \n",
              "2000-04-28  1.620125e+08                 0.0  \n",
              "2000-03-31  1.565846e+08                 0.0  \n",
              "2000-02-29  2.074577e+08                 0.0  \n",
              "2000-01-31  2.622090e+08                 0.0  \n",
              "1999-12-31  2.464761e+08                 0.0  \n",
              "\n",
              "[278 rows x 7 columns]"
            ],
            "text/html": [
              "\n",
              "  <div id=\"df-d23abc0b-503a-484e-8e38-326c6bc6532f\">\n",
              "    <div class=\"colab-df-container\">\n",
              "      <div>\n",
              "<style scoped>\n",
              "    .dataframe tbody tr th:only-of-type {\n",
              "        vertical-align: middle;\n",
              "    }\n",
              "\n",
              "    .dataframe tbody tr th {\n",
              "        vertical-align: top;\n",
              "    }\n",
              "\n",
              "    .dataframe thead th {\n",
              "        text-align: right;\n",
              "    }\n",
              "</style>\n",
              "<table border=\"1\" class=\"dataframe\">\n",
              "  <thead>\n",
              "    <tr style=\"text-align: right;\">\n",
              "      <th></th>\n",
              "      <th>1. open</th>\n",
              "      <th>2. high</th>\n",
              "      <th>3. low</th>\n",
              "      <th>4. close</th>\n",
              "      <th>5. adjusted close</th>\n",
              "      <th>6. volume</th>\n",
              "      <th>7. dividend amount</th>\n",
              "    </tr>\n",
              "    <tr>\n",
              "      <th>date</th>\n",
              "      <th></th>\n",
              "      <th></th>\n",
              "      <th></th>\n",
              "      <th></th>\n",
              "      <th></th>\n",
              "      <th></th>\n",
              "      <th></th>\n",
              "    </tr>\n",
              "  </thead>\n",
              "  <tbody>\n",
              "    <tr>\n",
              "      <th>2023-01-20</th>\n",
              "      <td>85.46</td>\n",
              "      <td>99.32</td>\n",
              "      <td>81.43</td>\n",
              "      <td>97.25</td>\n",
              "      <td>97.2500</td>\n",
              "      <td>9.925880e+08</td>\n",
              "      <td>0.0</td>\n",
              "    </tr>\n",
              "    <tr>\n",
              "      <th>2022-12-30</th>\n",
              "      <td>96.99</td>\n",
              "      <td>97.23</td>\n",
              "      <td>81.69</td>\n",
              "      <td>84.00</td>\n",
              "      <td>84.0000</td>\n",
              "      <td>1.549193e+09</td>\n",
              "      <td>0.2</td>\n",
              "    </tr>\n",
              "    <tr>\n",
              "      <th>2022-11-30</th>\n",
              "      <td>103.99</td>\n",
              "      <td>104.58</td>\n",
              "      <td>85.87</td>\n",
              "      <td>96.54</td>\n",
              "      <td>96.3080</td>\n",
              "      <td>2.035252e+09</td>\n",
              "      <td>0.0</td>\n",
              "    </tr>\n",
              "    <tr>\n",
              "      <th>2022-10-31</th>\n",
              "      <td>113.58</td>\n",
              "      <td>123.00</td>\n",
              "      <td>97.66</td>\n",
              "      <td>102.44</td>\n",
              "      <td>102.1939</td>\n",
              "      <td>1.459512e+09</td>\n",
              "      <td>0.0</td>\n",
              "    </tr>\n",
              "    <tr>\n",
              "      <th>2022-09-30</th>\n",
              "      <td>126.00</td>\n",
              "      <td>136.49</td>\n",
              "      <td>112.06</td>\n",
              "      <td>113.00</td>\n",
              "      <td>112.7285</td>\n",
              "      <td>1.209988e+09</td>\n",
              "      <td>0.0</td>\n",
              "    </tr>\n",
              "    <tr>\n",
              "      <th>...</th>\n",
              "      <td>...</td>\n",
              "      <td>...</td>\n",
              "      <td>...</td>\n",
              "      <td>...</td>\n",
              "      <td>...</td>\n",
              "      <td>...</td>\n",
              "      <td>...</td>\n",
              "    </tr>\n",
              "    <tr>\n",
              "      <th>2000-04-28</th>\n",
              "      <td>65.44</td>\n",
              "      <td>68.63</td>\n",
              "      <td>40.81</td>\n",
              "      <td>55.19</td>\n",
              "      <td>2.7529</td>\n",
              "      <td>1.620125e+08</td>\n",
              "      <td>0.0</td>\n",
              "    </tr>\n",
              "    <tr>\n",
              "      <th>2000-03-31</th>\n",
              "      <td>67.63</td>\n",
              "      <td>75.25</td>\n",
              "      <td>60.00</td>\n",
              "      <td>67.00</td>\n",
              "      <td>3.3420</td>\n",
              "      <td>1.565846e+08</td>\n",
              "      <td>0.0</td>\n",
              "    </tr>\n",
              "    <tr>\n",
              "      <th>2000-02-29</th>\n",
              "      <td>67.50</td>\n",
              "      <td>85.94</td>\n",
              "      <td>63.06</td>\n",
              "      <td>68.88</td>\n",
              "      <td>3.4357</td>\n",
              "      <td>2.074577e+08</td>\n",
              "      <td>0.0</td>\n",
              "    </tr>\n",
              "    <tr>\n",
              "      <th>2000-01-31</th>\n",
              "      <td>81.50</td>\n",
              "      <td>91.50</td>\n",
              "      <td>58.44</td>\n",
              "      <td>64.56</td>\n",
              "      <td>3.2202</td>\n",
              "      <td>2.622090e+08</td>\n",
              "      <td>0.0</td>\n",
              "    </tr>\n",
              "    <tr>\n",
              "      <th>1999-12-31</th>\n",
              "      <td>87.25</td>\n",
              "      <td>113.00</td>\n",
              "      <td>76.00</td>\n",
              "      <td>76.13</td>\n",
              "      <td>3.7974</td>\n",
              "      <td>2.464761e+08</td>\n",
              "      <td>0.0</td>\n",
              "    </tr>\n",
              "  </tbody>\n",
              "</table>\n",
              "<p>278 rows × 7 columns</p>\n",
              "</div>\n",
              "      <button class=\"colab-df-convert\" onclick=\"convertToInteractive('df-d23abc0b-503a-484e-8e38-326c6bc6532f')\"\n",
              "              title=\"Convert this dataframe to an interactive table.\"\n",
              "              style=\"display:none;\">\n",
              "        \n",
              "  <svg xmlns=\"http://www.w3.org/2000/svg\" height=\"24px\"viewBox=\"0 0 24 24\"\n",
              "       width=\"24px\">\n",
              "    <path d=\"M0 0h24v24H0V0z\" fill=\"none\"/>\n",
              "    <path d=\"M18.56 5.44l.94 2.06.94-2.06 2.06-.94-2.06-.94-.94-2.06-.94 2.06-2.06.94zm-11 1L8.5 8.5l.94-2.06 2.06-.94-2.06-.94L8.5 2.5l-.94 2.06-2.06.94zm10 10l.94 2.06.94-2.06 2.06-.94-2.06-.94-.94-2.06-.94 2.06-2.06.94z\"/><path d=\"M17.41 7.96l-1.37-1.37c-.4-.4-.92-.59-1.43-.59-.52 0-1.04.2-1.43.59L10.3 9.45l-7.72 7.72c-.78.78-.78 2.05 0 2.83L4 21.41c.39.39.9.59 1.41.59.51 0 1.02-.2 1.41-.59l7.78-7.78 2.81-2.81c.8-.78.8-2.07 0-2.86zM5.41 20L4 18.59l7.72-7.72 1.47 1.35L5.41 20z\"/>\n",
              "  </svg>\n",
              "      </button>\n",
              "      \n",
              "  <style>\n",
              "    .colab-df-container {\n",
              "      display:flex;\n",
              "      flex-wrap:wrap;\n",
              "      gap: 12px;\n",
              "    }\n",
              "\n",
              "    .colab-df-convert {\n",
              "      background-color: #E8F0FE;\n",
              "      border: none;\n",
              "      border-radius: 50%;\n",
              "      cursor: pointer;\n",
              "      display: none;\n",
              "      fill: #1967D2;\n",
              "      height: 32px;\n",
              "      padding: 0 0 0 0;\n",
              "      width: 32px;\n",
              "    }\n",
              "\n",
              "    .colab-df-convert:hover {\n",
              "      background-color: #E2EBFA;\n",
              "      box-shadow: 0px 1px 2px rgba(60, 64, 67, 0.3), 0px 1px 3px 1px rgba(60, 64, 67, 0.15);\n",
              "      fill: #174EA6;\n",
              "    }\n",
              "\n",
              "    [theme=dark] .colab-df-convert {\n",
              "      background-color: #3B4455;\n",
              "      fill: #D2E3FC;\n",
              "    }\n",
              "\n",
              "    [theme=dark] .colab-df-convert:hover {\n",
              "      background-color: #434B5C;\n",
              "      box-shadow: 0px 1px 3px 1px rgba(0, 0, 0, 0.15);\n",
              "      filter: drop-shadow(0px 1px 2px rgba(0, 0, 0, 0.3));\n",
              "      fill: #FFFFFF;\n",
              "    }\n",
              "  </style>\n",
              "\n",
              "      <script>\n",
              "        const buttonEl =\n",
              "          document.querySelector('#df-d23abc0b-503a-484e-8e38-326c6bc6532f button.colab-df-convert');\n",
              "        buttonEl.style.display =\n",
              "          google.colab.kernel.accessAllowed ? 'block' : 'none';\n",
              "\n",
              "        async function convertToInteractive(key) {\n",
              "          const element = document.querySelector('#df-d23abc0b-503a-484e-8e38-326c6bc6532f');\n",
              "          const dataTable =\n",
              "            await google.colab.kernel.invokeFunction('convertToInteractive',\n",
              "                                                     [key], {});\n",
              "          if (!dataTable) return;\n",
              "\n",
              "          const docLinkHtml = 'Like what you see? Visit the ' +\n",
              "            '<a target=\"_blank\" href=https://colab.research.google.com/notebooks/data_table.ipynb>data table notebook</a>'\n",
              "            + ' to learn more about interactive tables.';\n",
              "          element.innerHTML = '';\n",
              "          dataTable['output_type'] = 'display_data';\n",
              "          await google.colab.output.renderOutput(dataTable, element);\n",
              "          const docLink = document.createElement('div');\n",
              "          docLink.innerHTML = docLinkHtml;\n",
              "          element.appendChild(docLink);\n",
              "        }\n",
              "      </script>\n",
              "    </div>\n",
              "  </div>\n",
              "  "
            ]
          },
          "metadata": {},
          "execution_count": 14
        }
      ]
    },
    {
      "cell_type": "code",
      "source": [
        "pip install nsepy"
      ],
      "metadata": {
        "colab": {
          "base_uri": "https://localhost:8080/"
        },
        "id": "C0XDz3Y04Wg-",
        "outputId": "66668f3c-2f66-48ae-8c35-a33aac34e82b"
      },
      "execution_count": 19,
      "outputs": [
        {
          "output_type": "stream",
          "name": "stdout",
          "text": [
            "Looking in indexes: https://pypi.org/simple, https://us-python.pkg.dev/colab-wheels/public/simple/\n",
            "Collecting nsepy\n",
            "  Downloading nsepy-0.8.tar.gz (33 kB)\n",
            "  Preparing metadata (setup.py) ... \u001b[?25l\u001b[?25hdone\n",
            "Requirement already satisfied: beautifulsoup4 in /usr/local/lib/python3.8/dist-packages (from nsepy) (4.11.1)\n",
            "Requirement already satisfied: requests in /usr/local/lib/python3.8/dist-packages (from nsepy) (2.28.2)\n",
            "Requirement already satisfied: numpy in /usr/local/lib/python3.8/dist-packages (from nsepy) (1.21.6)\n",
            "Requirement already satisfied: pandas in /usr/local/lib/python3.8/dist-packages (from nsepy) (1.3.5)\n",
            "Requirement already satisfied: six in /usr/local/lib/python3.8/dist-packages (from nsepy) (1.15.0)\n",
            "Requirement already satisfied: click in /usr/local/lib/python3.8/dist-packages (from nsepy) (7.1.2)\n",
            "Requirement already satisfied: lxml in /usr/local/lib/python3.8/dist-packages (from nsepy) (4.9.2)\n",
            "Requirement already satisfied: soupsieve>1.2 in /usr/local/lib/python3.8/dist-packages (from beautifulsoup4->nsepy) (2.3.2.post1)\n",
            "Requirement already satisfied: pytz>=2017.3 in /usr/local/lib/python3.8/dist-packages (from pandas->nsepy) (2022.7)\n",
            "Requirement already satisfied: python-dateutil>=2.7.3 in /usr/local/lib/python3.8/dist-packages (from pandas->nsepy) (2.8.2)\n",
            "Requirement already satisfied: charset-normalizer<4,>=2 in /usr/local/lib/python3.8/dist-packages (from requests->nsepy) (2.1.1)\n",
            "Requirement already satisfied: idna<4,>=2.5 in /usr/local/lib/python3.8/dist-packages (from requests->nsepy) (2.10)\n",
            "Requirement already satisfied: certifi>=2017.4.17 in /usr/local/lib/python3.8/dist-packages (from requests->nsepy) (2022.12.7)\n",
            "Requirement already satisfied: urllib3<1.27,>=1.21.1 in /usr/local/lib/python3.8/dist-packages (from requests->nsepy) (1.24.3)\n",
            "Building wheels for collected packages: nsepy\n",
            "  Building wheel for nsepy (setup.py) ... \u001b[?25l\u001b[?25hdone\n",
            "  Created wheel for nsepy: filename=nsepy-0.8-py3-none-any.whl size=36085 sha256=a07a4ad64fdd323b4b93356c0287f911f908dbdfe203fee4420461a55dc6ab6e\n",
            "  Stored in directory: /root/.cache/pip/wheels/b9/2c/cb/d74199e422a1dbc20297d10cfff9c54d03e0b5c6694d49ccdd\n",
            "Successfully built nsepy\n",
            "Installing collected packages: nsepy\n",
            "Successfully installed nsepy-0.8\n"
          ]
        }
      ]
    },
    {
      "cell_type": "code",
      "source": [
        "import nsepy as nse\n",
        "import datetime as date\n",
        "import numpy as np"
      ],
      "metadata": {
        "id": "pM0iid7w4Wj2"
      },
      "execution_count": 20,
      "outputs": []
    },
    {
      "cell_type": "code",
      "source": [
        "#nse.get_history(symbol='INFY',start =date(2022,7,30),end =date(2022,9,30),index=False)"
      ],
      "metadata": {
        "id": "YJkpyCU44WpI"
      },
      "execution_count": 22,
      "outputs": []
    },
    {
      "cell_type": "code",
      "source": [
        "df.close"
      ],
      "metadata": {
        "colab": {
          "base_uri": "https://localhost:8080/"
        },
        "id": "BNQcfQuoUTTQ",
        "outputId": "1aac2bc1-0f15-40a8-a8db-68462a312460"
      },
      "execution_count": 18,
      "outputs": [
        {
          "output_type": "execute_result",
          "data": {
            "text/plain": [
              "0       1327.31\n",
              "1       1362.54\n",
              "2       1357.51\n",
              "3       1377.95\n",
              "4       1402.05\n",
              "         ...   \n",
              "1254      98.12\n",
              "1255      96.05\n",
              "1256      95.46\n",
              "1257      93.68\n",
              "1258      97.25\n",
              "Name: close, Length: 1259, dtype: float64"
            ]
          },
          "metadata": {},
          "execution_count": 18
        }
      ]
    },
    {
      "cell_type": "code",
      "source": [
        "import matplotlib.pyplot as plt\n",
        "plt.plot(df['close'])"
      ],
      "metadata": {
        "colab": {
          "base_uri": "https://localhost:8080/",
          "height": 282
        },
        "id": "jzEZ6CHl4WrW",
        "outputId": "5bc313b2-d953-4c70-c217-9228d5c62d40"
      },
      "execution_count": 19,
      "outputs": [
        {
          "output_type": "execute_result",
          "data": {
            "text/plain": [
              "[<matplotlib.lines.Line2D at 0x7f34d44246a0>]"
            ]
          },
          "metadata": {},
          "execution_count": 19
        },
        {
          "output_type": "display_data",
          "data": {
            "text/plain": [
              "<Figure size 432x288 with 1 Axes>"
            ],
            "image/png": "[encoded data removed]"
          },
          "metadata": {
            "needs_background": "light"
          }
        }
      ]
    },
    {
      "cell_type": "code",
      "source": [
        "df1=df.close\n",
        "from sklearn.preprocessing import MinMaxScaler\n",
        "scaler=MinMaxScaler(feature_range=(0,1))\n",
        "df1=scaler.fit_transform(np.array(df1).reshape(-1,1))"
      ],
      "metadata": {
        "id": "uIqcNZrqUQcA"
      },
      "execution_count": 20,
      "outputs": []
    },
    {
      "cell_type": "code",
      "source": [
        "df1"
      ],
      "metadata": {
        "colab": {
          "base_uri": "https://localhost:8080/"
        },
        "id": "9fNDQf5uV4c-",
        "outputId": "7d3f3ac2-26eb-4870-9eb2-820cd23fa4ec"
      },
      "execution_count": 21,
      "outputs": [
        {
          "output_type": "execute_result",
          "data": {
            "text/plain": [
              "array([[0.34126847],\n",
              "       [0.35092161],\n",
              "       [0.34954337],\n",
              "       ...,\n",
              "       [0.00373741],\n",
              "       [0.00324968],\n",
              "       [0.00422787]])"
            ]
          },
          "metadata": {},
          "execution_count": 21
        }
      ]
    },
    {
      "cell_type": "code",
      "source": [
        "training_size=int(len(df1)*0.8)\n",
        "test_size=len(df1)-training_size\n",
        "train_data,test_data=df1[0:training_size,:],df1[training_size:len(df1),:1]"
      ],
      "metadata": {
        "id": "5Qrg2lhCWDQk"
      },
      "execution_count": 22,
      "outputs": []
    },
    {
      "cell_type": "code",
      "source": [
        "training_size"
      ],
      "metadata": {
        "colab": {
          "base_uri": "https://localhost:8080/"
        },
        "id": "yKiSpE40Whgg",
        "outputId": "3a740940-1d10-4ffc-bdae-e374d769b9ea"
      },
      "execution_count": 23,
      "outputs": [
        {
          "output_type": "execute_result",
          "data": {
            "text/plain": [
              "1007"
            ]
          },
          "metadata": {},
          "execution_count": 23
        }
      ]
    },
    {
      "cell_type": "code",
      "source": [
        "test_size"
      ],
      "metadata": {
        "colab": {
          "base_uri": "https://localhost:8080/"
        },
        "id": "0jzqgLh2WlWL",
        "outputId": "35524929-e134-4489-ecd3-cddc9f4daf25"
      },
      "execution_count": 24,
      "outputs": [
        {
          "output_type": "execute_result",
          "data": {
            "text/plain": [
              "252"
            ]
          },
          "metadata": {},
          "execution_count": 24
        }
      ]
    },
    {
      "cell_type": "code",
      "source": [
        "import numpy\n",
        "# convert an array of values into a dataset matrix\n",
        "def create_dataset(dataset, time_step=1):\n",
        "\tdataX, dataY = [], []\n",
        "\tfor i in range(len(dataset)-time_step):\n",
        "\t\ta = dataset[i:(i+time_step), 0]   ###i=0, 0,1,2,3-----99   100 \n",
        "\t\tdataX.append(a)\n",
        "\t\tdataY.append(dataset[i + time_step, 0])\n",
        "\treturn numpy.array(dataX), numpy.array(dataY)"
      ],
      "metadata": {
        "id": "RWsJYVZgWnUw"
      },
      "execution_count": 35,
      "outputs": []
    },
    {
      "cell_type": "code",
      "source": [
        "# reshape into X=t,t+1,t+2,t+3 and Y=t+4\n",
        "time_step = 100\n",
        "X_train, y_train = create_dataset(train_data, time_step)\n",
        "X_test, ytest = create_dataset(test_data, time_step)"
      ],
      "metadata": {
        "id": "tL7heOJKXJpi"
      },
      "execution_count": 36,
      "outputs": []
    },
    {
      "cell_type": "code",
      "source": [
        "(print(X_train.shape), print(y_train.shape))\n"
      ],
      "metadata": {
        "colab": {
          "base_uri": "https://localhost:8080/"
        },
        "id": "X1SUrElwXNOl",
        "outputId": "6e27f22e-e353-4151-83f4-a0b4dbdac498"
      },
      "execution_count": 37,
      "outputs": [
        {
          "output_type": "stream",
          "name": "stdout",
          "text": [
            "(907, 100)\n",
            "(907,)\n"
          ]
        },
        {
          "output_type": "execute_result",
          "data": {
            "text/plain": [
              "(None, None)"
            ]
          },
          "metadata": {},
          "execution_count": 37
        }
      ]
    },
    {
      "cell_type": "code",
      "source": [
        "print(X_test.shape), print(ytest.shape)"
      ],
      "metadata": {
        "colab": {
          "base_uri": "https://localhost:8080/"
        },
        "id": "HQ4N4AxuXQJV",
        "outputId": "f244db30-2ef3-43e7-95f6-0fb2e7ca6b29"
      },
      "execution_count": 38,
      "outputs": [
        {
          "output_type": "stream",
          "name": "stdout",
          "text": [
            "(152, 100)\n",
            "(152,)\n"
          ]
        },
        {
          "output_type": "execute_result",
          "data": {
            "text/plain": [
              "(None, None)"
            ]
          },
          "metadata": {},
          "execution_count": 38
        }
      ]
    },
    {
      "cell_type": "code",
      "source": [
        "X_train =np.expand_dims(X_train , axis=-1)\n",
        "X_test = X_test.reshape(X_test.shape[0],X_test.shape[1] , 1)"
      ],
      "metadata": {
        "id": "3ue-QQE0Xb9p"
      },
      "execution_count": 39,
      "outputs": []
    },
    {
      "cell_type": "code",
      "source": [
        "X_train.shape"
      ],
      "metadata": {
        "colab": {
          "base_uri": "https://localhost:8080/"
        },
        "id": "geHUJ6sqXp3M",
        "outputId": "c51c9b34-ee37-461d-bc38-a83db7b487ba"
      },
      "execution_count": 40,
      "outputs": [
        {
          "output_type": "execute_result",
          "data": {
            "text/plain": [
              "(907, 100, 1)"
            ]
          },
          "metadata": {},
          "execution_count": 40
        }
      ]
    },
    {
      "cell_type": "code",
      "source": [
        "X_test.shape"
      ],
      "metadata": {
        "colab": {
          "base_uri": "https://localhost:8080/"
        },
        "id": "tOsHaI_TXrv8",
        "outputId": "ac13ab9d-3470-4e44-d2ea-4618e6ef30d3"
      },
      "execution_count": 41,
      "outputs": [
        {
          "output_type": "execute_result",
          "data": {
            "text/plain": [
              "(152, 100, 1)"
            ]
          },
          "metadata": {},
          "execution_count": 41
        }
      ]
    },
    {
      "cell_type": "code",
      "source": [
        "### Create the Stacked LSTM model\n",
        "import tensorflow as tf\n",
        "from tensorflow.keras.models import Sequential\n",
        "from tensorflow.keras.layers import Dense\n",
        "from tensorflow.keras.layers import LSTM,Conv1D,Bidirectional"
      ],
      "metadata": {
        "id": "K6xmdUq_X9rO"
      },
      "execution_count": 30,
      "outputs": []
    },
    {
      "cell_type": "code",
      "source": [
        "from sklearn.metrics import mean_absolute_error"
      ],
      "metadata": {
        "id": "TJwPoUMV37-r"
      },
      "execution_count": 23,
      "outputs": []
    },
    {
      "cell_type": "code",
      "source": [
        "train_predict=scaler.inverse_transform(train_predict)\n",
        "test_predict=scaler.inverse_transform(test_predict)"
      ],
      "metadata": {
        "id": "ehDzVee1cQjU"
      },
      "execution_count": null,
      "outputs": []
    },
    {
      "cell_type": "code",
      "source": [
        "import numpy\n",
        "# convert an array of values into a dataset matrix\n",
        "def create_dataset(dataset, time_step=1):\n",
        "\tdataX, dataY = [], []\n",
        "\tfor i in range(len(dataset)-time_step):\n",
        "\t\ta = dataset[i:(i+time_step), 0]   ###i=0, 0,1,2,3-----99   100 \n",
        "\t\tdataX.append(a)\n",
        "\t\tdataY.append(dataset[i + time_step, 0])\n",
        "\treturn numpy.array(dataX), numpy.array(dataY)"
      ],
      "metadata": {
        "id": "OrGsihPX48nl"
      },
      "execution_count": 28,
      "outputs": []
    },
    {
      "cell_type": "code",
      "source": [
        "from sklearn.preprocessing import MinMaxScaler"
      ],
      "metadata": {
        "id": "GPd2o8rr48rI"
      },
      "execution_count": 26,
      "outputs": []
    },
    {
      "cell_type": "code",
      "source": [
        "def multiple_model(columns):\n",
        "  mae=[]\n",
        "  for col in columns:\n",
        "    df1=df[col]\n",
        "    scaler=MinMaxScaler(feature_range=(0,1))\n",
        "    df1=scaler.fit_transform(np.array(df1).reshape(-1,1))\n",
        "    training_size=int(len(df1)*0.8)\n",
        "    test_size=len(df1)-training_size\n",
        "    train_data,test_data=df1[0:training_size,:],df1[training_size:len(df1),:1]\n",
        "    time_step = 100\n",
        "    X_train, y_train = create_dataset(train_data, time_step)\n",
        "    X_test, ytest = create_dataset(test_data, time_step)\n",
        "    X_train =np.expand_dims(X_train , axis=-1)\n",
        "    X_test = X_test.reshape(X_test.shape[0],X_test.shape[1] , 1)\n",
        "    model=Sequential([\n",
        "    Conv1D(32,kernel_size=10,strides=1,activation='relu',input_shape=(100,1)),\n",
        "    Bidirectional(LSTM(64,return_sequences=True)),\n",
        "    Bidirectional(LSTM(32,return_sequences=True)),\n",
        "    Bidirectional(LSTM(32)),\n",
        "    Dense(1)])\n",
        "\n",
        "    ES = tf.keras.callbacks.EarlyStopping(patience=2, monitor=\"mae\", verbose=1, min_delta=0.001)\n",
        "    MC = tf.keras.callbacks.ModelCheckpoint(\"mymodel\"+str(col)+\".h5\", patience=2, monitor=\"mae\", verbose=1,\n",
        "                                            save_best_only=True, min_delta=0.001)\n",
        "    LRS = tf.keras.callbacks.LearningRateScheduler(lambda epochs: 1e-5 * 10 ** (epochs / 20), verbose=1)  \n",
        "    model.compile(\n",
        "        loss=tf.keras.losses.Huber(),\n",
        "        optimizer=\"adam\",\n",
        "        metrics=[\"mae\"]\n",
        "        # YOUR CODE HERE\n",
        "    )\n",
        "    model.fit(X_train,y_train,validation_data=(X_test,ytest),epochs=50,verbose=0,callbacks=[ES,MC])\n",
        "    test_predict=model.predict(X_test)\n",
        "\n",
        "    test_predict=scaler.inverse_transform(test_predict)\n",
        "    mae.append(mean_absolute_error(ytest,test_predict))\n",
        "\n",
        "\n",
        "\n",
        "multiple_model(['low','high'])\n",
        "\n",
        "\n",
        "\n",
        "\n"
      ],
      "metadata": {
        "colab": {
          "base_uri": "https://localhost:8080/"
        },
        "id": "FCvjqzaCyxRV",
        "outputId": "cc7093c7-72cd-4859-9dc8-6590a46dd805"
      },
      "execution_count": 32,
      "outputs": [
        {
          "output_type": "stream",
          "name": "stdout",
          "text": [
            "\n",
            "Epoch 1: mae improved from inf to 0.13431, saving model to mymodellow.h5\n",
            "\n",
            "Epoch 2: mae improved from 0.13431 to 0.05136, saving model to mymodellow.h5\n",
            "\n",
            "Epoch 3: mae improved from 0.05136 to 0.03885, saving model to mymodellow.h5\n",
            "\n",
            "Epoch 4: mae improved from 0.03885 to 0.03553, saving model to mymodellow.h5\n",
            "\n",
            "Epoch 5: mae improved from 0.03553 to 0.03311, saving model to mymodellow.h5\n",
            "\n",
            "Epoch 6: mae improved from 0.03311 to 0.02958, saving model to mymodellow.h5\n",
            "\n",
            "Epoch 7: mae improved from 0.02958 to 0.02733, saving model to mymodellow.h5\n",
            "\n",
            "Epoch 8: mae improved from 0.02733 to 0.02703, saving model to mymodellow.h5\n",
            "\n",
            "Epoch 9: mae did not improve from 0.02703\n",
            "Epoch 9: early stopping\n",
            "5/5 [==============================] - 3s 52ms/step\n",
            "\n",
            "Epoch 1: mae improved from inf to 0.16283, saving model to mymodelhigh.h5\n",
            "\n",
            "Epoch 2: mae improved from 0.16283 to 0.05353, saving model to mymodelhigh.h5\n",
            "\n",
            "Epoch 3: mae improved from 0.05353 to 0.03923, saving model to mymodelhigh.h5\n",
            "\n",
            "Epoch 4: mae improved from 0.03923 to 0.03679, saving model to mymodelhigh.h5\n",
            "\n",
            "Epoch 5: mae improved from 0.03679 to 0.03359, saving model to mymodelhigh.h5\n",
            "\n",
            "Epoch 6: mae improved from 0.03359 to 0.03180, saving model to mymodelhigh.h5\n",
            "\n",
            "Epoch 7: mae improved from 0.03180 to 0.03010, saving model to mymodelhigh.h5\n",
            "\n",
            "Epoch 8: mae improved from 0.03010 to 0.02893, saving model to mymodelhigh.h5\n",
            "\n",
            "Epoch 9: mae improved from 0.02893 to 0.02741, saving model to mymodelhigh.h5\n",
            "\n",
            "Epoch 10: mae improved from 0.02741 to 0.02661, saving model to mymodelhigh.h5\n",
            "\n",
            "Epoch 11: mae improved from 0.02661 to 0.02580, saving model to mymodelhigh.h5\n",
            "\n",
            "Epoch 12: mae did not improve from 0.02580\n",
            "\n",
            "Epoch 13: mae did not improve from 0.02580\n",
            "Epoch 13: early stopping\n",
            "5/5 [==============================] - 3s 58ms/step\n"
          ]
        }
      ]
    },
    {
      "cell_type": "code",
      "source": [],
      "metadata": {
        "id": "Q4-Op6W68k-e"
      },
      "execution_count": null,
      "outputs": []
    },
    {
      "cell_type": "code",
      "source": [],
      "metadata": {
        "id": "2ye9RZ1p8lA3"
      },
      "execution_count": null,
      "outputs": []
    }
  ]
}